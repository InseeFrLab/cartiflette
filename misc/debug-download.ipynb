{
 "cells": [
  {
   "cell_type": "code",
   "execution_count": null,
   "metadata": {},
   "outputs": [],
   "source": [
    "from cartiflette.utils import import_yaml_config\n",
    "from cartiflette.config import FS\n",
    "from cartiflette.s3 import upload_s3_raw\n",
    "from cartiflette.download.download import _download_sources\n",
    "from cartiflette.utils import create_path_bucket, official_epsg_codes\n",
    "from cartiflette.config import PATH_WITHIN_BUCKET\n",
    "from cartiflette.utils import hash_file\n",
    "\n",
    "intermediate_dir=\"temp\"\n",
    "path_within_bucket=\"test-clean\"\n",
    "fs=FS\n",
    "provider=\"IGN\"\n",
    "source=\"EXPRESS-COG-CARTO-TERRITOIRE\"\n",
    "year=2022\n",
    "dataset_family=\"ADMINEXPRESS\"\n",
    "territory=\"metropole\"\n",
    "borders=\"COMMUNE\"\n",
    "path_within_bucket=PATH_WITHIN_BUCKET\n",
    "vectorfile_format=\"shp\"\n",
    "bucket=\"projet-cartiflette\""
   ]
  },
  {
   "cell_type": "code",
   "execution_count": null,
   "metadata": {},
   "outputs": [],
   "source": [
    "local_dir = intermediate_dir\n",
    "format_intermediate = \"geojson\"\n",
    "\n",
    "yaml = import_yaml_config()\n",
    "\n",
    "list_territories = yaml[\"IGN\"][\"ADMINEXPRESS\"][\"EXPRESS-COG-TERRITOIRE\"][\n",
    "        \"territory\"\n",
    "].keys()"
   ]
  },
  {
   "cell_type": "code",
   "execution_count": null,
   "metadata": {},
   "outputs": [],
   "source": [
    "    from collections import OrderedDict \n",
    "    kwargs = OrderedDict()\n",
    "    items = [\n",
    "        (\"sources\", source),\n",
    "        (\"territories\", territory),\n",
    "        (\"years\", year),\n",
    "        (\"providers\", provider),\n",
    "        (\"dataset_families\", dataset_family),\n",
    "    ]\n",
    "    for key, val in items:\n",
    "        if isinstance(val, str) or isinstance(val, int):\n",
    "            kwargs[key] = [val]\n",
    "        elif not val:\n",
    "            kwargs[key] = [None]\n",
    "        elif isinstance(val, list) or isinstance(val, tuple) or isinstance(val, set):\n",
    "            kwargs[key] = list(val)\n",
    "    kwargs"
   ]
  },
  {
   "cell_type": "code",
   "execution_count": null,
   "metadata": {},
   "outputs": [],
   "source": [
    "from cartiflette.download.dataset import Dataset\n",
    "\n",
    "datafile = Dataset(\n",
    "                dataset_family,\n",
    "                source,\n",
    "                year,\n",
    "                provider,\n",
    "                territory,\n",
    "                bucket,\n",
    "                path_within_bucket,\n",
    "            )\n",
    "datafile"
   ]
  },
  {
   "cell_type": "code",
   "execution_count": null,
   "metadata": {},
   "outputs": [],
   "source": [
    "from cartiflette.download.scraper import MasterScraper\n",
    "\n",
    "hash = datafile.md5\n",
    "url = datafile.get_path_from_provider()\n",
    "with MasterScraper() as s:\n",
    "    result = s.download_unpack(datafile, validate=False)"
   ]
  },
  {
   "cell_type": "code",
   "execution_count": null,
   "metadata": {},
   "outputs": [],
   "source": [
    "x = _download_sources(\n",
    "    upload=True,\n",
    "    providers=provider,\n",
    "    dataset_families=dataset_family,\n",
    "    sources=source,\n",
    "    territories=territory,\n",
    "    years=year,\n",
    "    path_within_bucket=path_within_bucket,\n",
    "    validate=False\n",
    ")"
   ]
  },
  {
   "cell_type": "code",
   "execution_count": null,
   "metadata": {},
   "outputs": [],
   "source": []
  }
 ],
 "metadata": {
  "kernelspec": {
   "display_name": "base",
   "language": "python",
   "name": "python3"
  },
  "language_info": {
   "codemirror_mode": {
    "name": "ipython",
    "version": 3
   },
   "file_extension": ".py",
   "mimetype": "text/x-python",
   "name": "python",
   "nbconvert_exporter": "python",
   "pygments_lexer": "ipython3",
   "version": "3.11.6"
  }
 },
 "nbformat": 4,
 "nbformat_minor": 2
}
