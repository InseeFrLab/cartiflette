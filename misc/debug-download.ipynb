{
 "cells": [
  {
   "cell_type": "code",
   "execution_count": 1,
   "metadata": {},
   "outputs": [],
   "source": [
    "from cartiflette.utils import import_yaml_config\n",
    "from cartiflette.config import FS\n",
    "from cartiflette.s3 import upload_s3_raw\n",
    "from cartiflette.download.download import _download_sources\n",
    "from cartiflette.utils import create_path_bucket, official_epsg_codes\n",
    "from cartiflette.config import PATH_WITHIN_BUCKET\n",
    "from cartiflette.utils import hash_file\n",
    "\n",
    "intermediate_dir=\"temp\"\n",
    "path_within_bucket=\"test-clean\"\n",
    "fs=FS\n",
    "provider=\"IGN\"\n",
    "source=\"EXPRESS-COG-CARTO-TERRITOIRE\"\n",
    "year=2022\n",
    "dataset_family=\"ADMINEXPRESS\"\n",
    "territory=\"metropole\"\n",
    "borders=\"COMMUNE\"\n",
    "path_within_bucket=PATH_WITHIN_BUCKET\n",
    "vectorfile_format=\"shp\"\n",
    "bucket=\"projet-cartiflette\""
   ]
  },
  {
   "cell_type": "code",
   "execution_count": 2,
   "metadata": {},
   "outputs": [],
   "source": [
    "local_dir = intermediate_dir\n",
    "format_intermediate = \"geojson\"\n",
    "\n",
    "yaml = import_yaml_config()\n",
    "\n",
    "list_territories = yaml[\"IGN\"][\"ADMINEXPRESS\"][\"EXPRESS-COG-TERRITOIRE\"][\n",
    "        \"territory\"\n",
    "].keys()"
   ]
  },
  {
   "cell_type": "code",
   "execution_count": 3,
   "metadata": {},
   "outputs": [
    {
     "data": {
      "text/plain": [
       "OrderedDict([('sources', ['EXPRESS-COG-CARTO-TERRITOIRE']),\n",
       "             ('territories', ['metropole']),\n",
       "             ('years', [2022]),\n",
       "             ('providers', ['IGN']),\n",
       "             ('dataset_families', ['ADMINEXPRESS'])])"
      ]
     },
     "execution_count": 3,
     "metadata": {},
     "output_type": "execute_result"
    }
   ],
   "source": [
    "    from collections import OrderedDict \n",
    "    kwargs = OrderedDict()\n",
    "    items = [\n",
    "        (\"sources\", source),\n",
    "        (\"territories\", territory),\n",
    "        (\"years\", year),\n",
    "        (\"providers\", provider),\n",
    "        (\"dataset_families\", dataset_family),\n",
    "    ]\n",
    "    for key, val in items:\n",
    "        if isinstance(val, str) or isinstance(val, int):\n",
    "            kwargs[key] = [val]\n",
    "        elif not val:\n",
    "            kwargs[key] = [None]\n",
    "        elif isinstance(val, list) or isinstance(val, tuple) or isinstance(val, set):\n",
    "            kwargs[key] = list(val)\n",
    "    kwargs"
   ]
  },
  {
   "cell_type": "code",
   "execution_count": 4,
   "metadata": {},
   "outputs": [
    {
     "data": {
      "text/plain": [
       "<Dataset IGN ADMINEXPRESS EXPRESS-COG-CARTO-TERRITOIRE metropole 2022>"
      ]
     },
     "execution_count": 4,
     "metadata": {},
     "output_type": "execute_result"
    }
   ],
   "source": [
    "from cartiflette.download.dataset import Dataset\n",
    "\n",
    "datafile = Dataset(\n",
    "                dataset_family,\n",
    "                source,\n",
    "                year,\n",
    "                provider,\n",
    "                territory,\n",
    "                bucket,\n",
    "                path_within_bucket,\n",
    "            )\n",
    "datafile"
   ]
  },
  {
   "cell_type": "code",
   "execution_count": 5,
   "metadata": {},
   "outputs": [
    {
     "name": "stderr",
     "output_type": "stream",
     "text": [
      "                                                        \r"
     ]
    }
   ],
   "source": [
    "from cartiflette.download.scraper import MasterScraper\n",
    "\n",
    "hash = datafile.md5\n",
    "url = datafile.get_path_from_provider()\n",
    "with MasterScraper() as s:\n",
    "    result = s.download_unpack(datafile)"
   ]
  },
  {
   "cell_type": "code",
   "execution_count": 10,
   "metadata": {},
   "outputs": [
    {
     "name": "stderr",
     "output_type": "stream",
     "text": [
      "                                                        \r"
     ]
    }
   ],
   "source": [
    "x = _download_sources(\n",
    "    upload=True,\n",
    "    providers=provider,\n",
    "    dataset_families=dataset_family,\n",
    "    sources=source,\n",
    "    territories=territory,\n",
    "    years=year,\n",
    "    path_within_bucket=path_within_bucket\n",
    ")"
   ]
  },
  {
   "cell_type": "code",
   "execution_count": 9,
   "metadata": {},
   "outputs": [
    {
     "data": {
      "text/plain": [
       "{'IGN': {'ADMINEXPRESS': {'EXPRESS-COG-CARTO-TERRITOIRE': {'metropole': {2022: {'downloaded': True,\n",
       "      'paths': {'CHFLIEU_COMMUNE': ['projet-cartiflette/production/provider=IGN/dataset_family=ADMINEXPRESS/source=EXPRESS-COG-CARTO-TERRITOIRE/year=2022/administrative_level=None/crs=2154/origin=raw/vectorfile_format=shp/territory=metropole/simplification=0/CHFLIEU_COMMUNE.shp'],\n",
       "       'COMMUNE': ['projet-cartiflette/production/provider=IGN/dataset_family=ADMINEXPRESS/source=EXPRESS-COG-CARTO-TERRITOIRE/year=2022/administrative_level=None/crs=2154/origin=raw/vectorfile_format=shp/territory=metropole/simplification=0/COMMUNE.shp'],\n",
       "       'COLLECTIVITE_TERRITORIALE': ['projet-cartiflette/production/provider=IGN/dataset_family=ADMINEXPRESS/source=EXPRESS-COG-CARTO-TERRITOIRE/year=2022/administrative_level=None/crs=2154/origin=raw/vectorfile_format=shp/territory=metropole/simplification=0/COLLECTIVITE_TERRITORIALE.shp'],\n",
       "       'COMMUNE_ASSOCIEE_OU_DELEGUEE': ['projet-cartiflette/production/provider=IGN/dataset_family=ADMINEXPRESS/source=EXPRESS-COG-CARTO-TERRITOIRE/year=2022/administrative_level=None/crs=2154/origin=raw/vectorfile_format=shp/territory=metropole/simplification=0/COMMUNE_ASSOCIEE_OU_DELEGUEE.shp'],\n",
       "       'REGION': ['projet-cartiflette/production/provider=IGN/dataset_family=ADMINEXPRESS/source=EXPRESS-COG-CARTO-TERRITOIRE/year=2022/administrative_level=None/crs=2154/origin=raw/vectorfile_format=shp/territory=metropole/simplification=0/REGION.shp'],\n",
       "       'ARRONDISSEMENT': ['projet-cartiflette/production/provider=IGN/dataset_family=ADMINEXPRESS/source=EXPRESS-COG-CARTO-TERRITOIRE/year=2022/administrative_level=None/crs=2154/origin=raw/vectorfile_format=shp/territory=metropole/simplification=0/ARRONDISSEMENT.shp'],\n",
       "       'DEPARTEMENT': ['projet-cartiflette/production/provider=IGN/dataset_family=ADMINEXPRESS/source=EXPRESS-COG-CARTO-TERRITOIRE/year=2022/administrative_level=None/crs=2154/origin=raw/vectorfile_format=shp/territory=metropole/simplification=0/DEPARTEMENT.shp'],\n",
       "       'ARRONDISSEMENT_MUNICIPAL': ['projet-cartiflette/production/provider=IGN/dataset_family=ADMINEXPRESS/source=EXPRESS-COG-CARTO-TERRITOIRE/year=2022/administrative_level=None/crs=2154/origin=raw/vectorfile_format=shp/territory=metropole/simplification=0/ARRONDISSEMENT_MUNICIPAL.shp'],\n",
       "       'CHFLIEU_COMMUNE_ASSOCIEE_OU_DELEGUEE': ['projet-cartiflette/production/provider=IGN/dataset_family=ADMINEXPRESS/source=EXPRESS-COG-CARTO-TERRITOIRE/year=2022/administrative_level=None/crs=2154/origin=raw/vectorfile_format=shp/territory=metropole/simplification=0/CHFLIEU_COMMUNE_ASSOCIEE_OU_DELEGUEE.shp'],\n",
       "       'CHFLIEU_ARRONDISSEMENT_MUNICIPAL': ['projet-cartiflette/production/provider=IGN/dataset_family=ADMINEXPRESS/source=EXPRESS-COG-CARTO-TERRITOIRE/year=2022/administrative_level=None/crs=2154/origin=raw/vectorfile_format=shp/territory=metropole/simplification=0/CHFLIEU_ARRONDISSEMENT_MUNICIPAL.shp'],\n",
       "       'CANTON': ['projet-cartiflette/production/provider=IGN/dataset_family=ADMINEXPRESS/source=EXPRESS-COG-CARTO-TERRITOIRE/year=2022/administrative_level=None/crs=2154/origin=raw/vectorfile_format=shp/territory=metropole/simplification=0/CANTON.shp'],\n",
       "       'EPCI': ['projet-cartiflette/production/provider=IGN/dataset_family=ADMINEXPRESS/source=EXPRESS-COG-CARTO-TERRITOIRE/year=2022/administrative_level=None/crs=2154/origin=raw/vectorfile_format=shp/territory=metropole/simplification=0/EPCI.shp']}}}}}}}"
      ]
     },
     "execution_count": 9,
     "metadata": {},
     "output_type": "execute_result"
    }
   ],
   "source": [
    "x"
   ]
  }
 ],
 "metadata": {
  "kernelspec": {
   "display_name": "base",
   "language": "python",
   "name": "python3"
  },
  "language_info": {
   "codemirror_mode": {
    "name": "ipython",
    "version": 3
   },
   "file_extension": ".py",
   "mimetype": "text/x-python",
   "name": "python",
   "nbconvert_exporter": "python",
   "pygments_lexer": "ipython3",
   "version": "3.11.6"
  }
 },
 "nbformat": 4,
 "nbformat_minor": 2
}
