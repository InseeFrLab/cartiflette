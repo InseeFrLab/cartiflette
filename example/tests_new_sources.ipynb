{
 "cells": [
  {
   "cell_type": "code",
   "execution_count": 1,
   "metadata": {},
   "outputs": [
    {
     "name": "stdout",
     "output_type": "stream",
     "text": [
      "Requirement already satisfied: owslib in /opt/mamba/lib/python3.11/site-packages (0.28.1)\n",
      "Requirement already satisfied: lxml in /opt/mamba/lib/python3.11/site-packages (from owslib) (4.9.3)\n",
      "Requirement already satisfied: python-dateutil>=1.5 in /opt/mamba/lib/python3.11/site-packages (from owslib) (2.8.2)\n",
      "Requirement already satisfied: pytz in /opt/mamba/lib/python3.11/site-packages (from owslib) (2023.3)\n",
      "Requirement already satisfied: pyyaml in /opt/mamba/lib/python3.11/site-packages (from owslib) (6.0.1)\n",
      "Requirement already satisfied: requests>=1.0 in /opt/mamba/lib/python3.11/site-packages (from owslib) (2.31.0)\n",
      "Requirement already satisfied: six>=1.5 in /opt/mamba/lib/python3.11/site-packages (from python-dateutil>=1.5->owslib) (1.16.0)\n",
      "Requirement already satisfied: charset-normalizer<4,>=2 in /opt/mamba/lib/python3.11/site-packages (from requests>=1.0->owslib) (3.2.0)\n",
      "Requirement already satisfied: idna<4,>=2.5 in /opt/mamba/lib/python3.11/site-packages (from requests>=1.0->owslib) (3.4)\n",
      "Requirement already satisfied: urllib3<3,>=1.21.1 in /opt/mamba/lib/python3.11/site-packages (from requests>=1.0->owslib) (1.26.15)\n",
      "Requirement already satisfied: certifi>=2017.4.17 in /opt/mamba/lib/python3.11/site-packages (from requests>=1.0->owslib) (2023.7.22)\n"
     ]
    }
   ],
   "source": [
    "!pip install owslib"
   ]
  },
  {
   "cell_type": "code",
   "execution_count": 2,
   "metadata": {},
   "outputs": [
    {
     "name": "stdout",
     "output_type": "stream",
     "text": [
      "['ADMINEXPRESS-COG-CARTO.LATEST:arrondissement', 'ADMINEXPRESS-COG-CARTO.LATEST:arrondissement_municipal', 'ADMINEXPRESS-COG-CARTO.LATEST:canton', 'ADMINEXPRESS-COG-CARTO.LATEST:chflieu_arrondissement_municipal', 'ADMINEXPRESS-COG-CARTO.LATEST:chflieu_commune', 'ADMINEXPRESS-COG-CARTO.LATEST:chflieu_commune_associee_ou_deleguee', 'ADMINEXPRESS-COG-CARTO.LATEST:collectivite_territoriale', 'ADMINEXPRESS-COG-CARTO.LATEST:commune', 'ADMINEXPRESS-COG-CARTO.LATEST:commune_associee_ou_deleguee', 'ADMINEXPRESS-COG-CARTO.LATEST:departement', 'ADMINEXPRESS-COG-CARTO.LATEST:epci', 'ADMINEXPRESS-COG-CARTO.LATEST:region']\n"
     ]
    },
    {
     "data": {
      "text/plain": [
       "<Axes: >"
      ]
     },
     "execution_count": 2,
     "metadata": {},
     "output_type": "execute_result"
    },
    {
     "data": {
      "image/png": "[encoded data removed]",
      "text/plain": [
       "<Figure size 640x480 with 1 Axes>"
      ]
     },
     "metadata": {},
     "output_type": "display_data"
    }
   ],
   "source": [
    "from owslib.wfs import WebFeatureService\n",
    "import geopandas as gpd\n",
    "import requests\n",
    "\n",
    "url = \"https://wxs.ign.fr/geoportail/wfs\"\n",
    "wfs = WebFeatureService(url=url, version='2.0.0')\n",
    "cog_files = [\n",
    "    x for x in wfs.contents\n",
    "    if 'cog' in x.lower()\n",
    "    and 'carto' in x.lower()\n",
    "    and 'latest' in x.lower()\n",
    "    ]\n",
    "print(cog_files)\n",
    "file = cog_files[-1]\n",
    "bbox_world = \"\"\"{\"type\":\"Polygon\", \"coordinates\":[[[-180,-90],[-180,90],[180,90],[180,-90],[-180,-90]]]}\"\"\"\n",
    "r = requests.get(\n",
    "    'https://apicarto.ign.fr/api/wfs-geoportail/search',\n",
    "    params={\"source\":file, \"geom\":bbox_world}\n",
    "    )\n",
    "gdf = gpd.GeoDataFrame.from_features(r.json())\n",
    "gdf.plot()"
   ]
  },
  {
   "cell_type": "code",
   "execution_count": 3,
   "metadata": {},
   "outputs": [
    {
     "name": "stdout",
     "output_type": "stream",
     "text": [
      "['BDTOPO-EXTENSION_NOM-USUEL_BDD_WLD_WGS84_20180123:extension_nom_usuel', 'BDTOPO.EXTENSION.NOM_USUEL:extension_nom_usuel', 'BDTOPOMILLESIMEE-LIMITES-ADM-2011_SYMBO_BDD_WLD_WGS84G_20170227:limites_adm', 'BDTOPOMILLESIMEE-LIMITES-ADM-2012_SYMBO_BDD_WLD_WGS84G_20170302:limites_adm', 'BDTOPOMILLESIMEE-LIMITES-ADM-2013_SYMBO_BDD_WLD_WGS84G_20170302:limites_adm', 'BDTOPOMILLESIMEE-LIMITES-ADM-2014_SYMBO_BDD_WLD_WGS84G_20170302:limites_adm', 'BDTOPOMILLESIMEE-LIMITES-ADM-2015_SYMBO_BDD_WLD_WGS84G_20170302:limites_adm', 'BDTOPOMILLESIMEE-LIMITES-ADM-2016_SYMBO_BDD_WLD_WGS84G_20170302:limites_adm', 'BDTOPOMILLESIMEE-RESEAU-ROUTIER-2011_SYMBO_BDD_WLD_WGS84G_20161202:adresse', 'BDTOPOMILLESIMEE-RESEAU-ROUTIER-2011_SYMBO_BDD_WLD_WGS84G_20161202:adresse_numero', 'BDTOPOMILLESIMEE-RESEAU-ROUTIER-2011_SYMBO_BDD_WLD_WGS84G_20161202:routes_carte', 'BDTOPOMILLESIMEE-RESEAU-ROUTIER-2011_SYMBO_BDD_WLD_WGS84G_20161202:routes_carte_m1', 'BDTOPOMILLESIMEE-RESEAU-ROUTIER-2011_SYMBO_BDD_WLD_WGS84G_20161202:routes_carte_p1', 'BDTOPOMILLESIMEE-RESEAU-ROUTIER-2012_SYMBO_BDD_WLD_WGS84G_WFS1:adresse', 'BDTOPOMILLESIMEE-RESEAU-ROUTIER-2012_SYMBO_BDD_WLD_WGS84G_WFS1:adresse_numero', 'BDTOPOMILLESIMEE-RESEAU-ROUTIER-2012_SYMBO_BDD_WLD_WGS84G_WFS1:routes_carte', 'BDTOPOMILLESIMEE-RESEAU-ROUTIER-2012_SYMBO_BDD_WLD_WGS84G_WFS1:routes_carte_m1', 'BDTOPOMILLESIMEE-RESEAU-ROUTIER-2012_SYMBO_BDD_WLD_WGS84G_WFS1:routes_carte_p1', 'BDTOPOMILLESIMEE-RESEAU-ROUTIER-2013_SYMBO_BDD_WLD_WGS84G_201125:adresse', 'BDTOPOMILLESIMEE-RESEAU-ROUTIER-2013_SYMBO_BDD_WLD_WGS84G_201125:adresse_numero', 'BDTOPOMILLESIMEE-RESEAU-ROUTIER-2013_SYMBO_BDD_WLD_WGS84G_201125:routes_carte', 'BDTOPOMILLESIMEE-RESEAU-ROUTIER-2013_SYMBO_BDD_WLD_WGS84G_201125:routes_carte_m1', 'BDTOPOMILLESIMEE-RESEAU-ROUTIER-2013_SYMBO_BDD_WLD_WGS84G_201125:routes_carte_p1', 'BDTOPOMILLESIMEE-RESEAU-ROUTIER-2014_SYMBO_BDD_WLD_WGS84G_20161125:adresse', 'BDTOPOMILLESIMEE-RESEAU-ROUTIER-2014_SYMBO_BDD_WLD_WGS84G_20161125:adresse_numero', 'BDTOPOMILLESIMEE-RESEAU-ROUTIER-2014_SYMBO_BDD_WLD_WGS84G_20161125:routes_carte', 'BDTOPOMILLESIMEE-RESEAU-ROUTIER-2014_SYMBO_BDD_WLD_WGS84G_20161125:routes_carte_m1', 'BDTOPOMILLESIMEE-RESEAU-ROUTIER-2014_SYMBO_BDD_WLD_WGS84G_20161125:routes_carte_p1', 'BDTOPOMILLESIMEE-RESEAU-ROUTIER-2015_SYMBO_BDD_WLD_WGS84G_20161125:adresse', 'BDTOPOMILLESIMEE-RESEAU-ROUTIER-2015_SYMBO_BDD_WLD_WGS84G_20161125:adresse_numero', 'BDTOPOMILLESIMEE-RESEAU-ROUTIER-2015_SYMBO_BDD_WLD_WGS84G_20161125:routes_carte', 'BDTOPOMILLESIMEE-RESEAU-ROUTIER-2015_SYMBO_BDD_WLD_WGS84G_20161125:routes_carte_m1', 'BDTOPOMILLESIMEE-RESEAU-ROUTIER-2015_SYMBO_BDD_WLD_WGS84G_20161125:routes_carte_p1', 'BDTOPOMILLESIMEE-RESEAU-ROUTIER-2016_SYMBO_BDD_WLD_WGS84G_20161125:adresse', 'BDTOPOMILLESIMEE-RESEAU-ROUTIER-2016_SYMBO_BDD_WLD_WGS84G_20161125:adresse_numero', 'BDTOPOMILLESIMEE-RESEAU-ROUTIER-2016_SYMBO_BDD_WLD_WGS84G_20161125:routes_carte', 'BDTOPOMILLESIMEE-RESEAU-ROUTIER-2016_SYMBO_BDD_WLD_WGS84G_20161125:routes_carte_m1', 'BDTOPOMILLESIMEE-RESEAU-ROUTIER-2016_SYMBO_BDD_WLD_WGS84G_20161125:routes_carte_p1', 'BDTOPO_BDD_WLD_WGS84G:aire_triage', 'BDTOPO_BDD_WLD_WGS84G:arrondissement', 'BDTOPO_BDD_WLD_WGS84G:bati_indifferencie', 'BDTOPO_BDD_WLD_WGS84G:bati_industriel', 'BDTOPO_BDD_WLD_WGS84G:bati_remarquable', 'BDTOPO_BDD_WLD_WGS84G:canalisation_eau', 'BDTOPO_BDD_WLD_WGS84G:chef_lieu', 'BDTOPO_BDD_WLD_WGS84G:chemin', 'BDTOPO_BDD_WLD_WGS84G:cimetiere', 'BDTOPO_BDD_WLD_WGS84G:commune', 'BDTOPO_BDD_WLD_WGS84G:conduite', 'BDTOPO_BDD_WLD_WGS84G:construction_legere', 'BDTOPO_BDD_WLD_WGS84G:construction_lineaire', 'BDTOPO_BDD_WLD_WGS84G:construction_ponctuelle', 'BDTOPO_BDD_WLD_WGS84G:construction_surfacique', 'BDTOPO_BDD_WLD_WGS84G:gare', 'BDTOPO_BDD_WLD_WGS84G:hydronyme', 'BDTOPO_BDD_WLD_WGS84G:lieu_dit_habite', 'BDTOPO_BDD_WLD_WGS84G:lieu_dit_non_habite', 'BDTOPO_BDD_WLD_WGS84G:ligne_electrique', 'BDTOPO_BDD_WLD_WGS84G:ligne_orographique', 'BDTOPO_BDD_WLD_WGS84G:oronyme', 'BDTOPO_BDD_WLD_WGS84G:pai_administratif_militaire', 'BDTOPO_BDD_WLD_WGS84G:pai_culture_loisirs', 'BDTOPO_BDD_WLD_WGS84G:pai_espace_naturel', 'BDTOPO_BDD_WLD_WGS84G:pai_gestion_eaux', 'BDTOPO_BDD_WLD_WGS84G:pai_hydrographie', 'BDTOPO_BDD_WLD_WGS84G:pai_industriel_commercial', 'BDTOPO_BDD_WLD_WGS84G:pai_orographie', 'BDTOPO_BDD_WLD_WGS84G:pai_religieux', 'BDTOPO_BDD_WLD_WGS84G:pai_sante', 'BDTOPO_BDD_WLD_WGS84G:pai_science_enseignement', 'BDTOPO_BDD_WLD_WGS84G:pai_sport', 'BDTOPO_BDD_WLD_WGS84G:pai_transport', 'BDTOPO_BDD_WLD_WGS84G:pai_zone_habitation', 'BDTOPO_BDD_WLD_WGS84G:piste_aerodrome', 'BDTOPO_BDD_WLD_WGS84G:point_eau', 'BDTOPO_BDD_WLD_WGS84G:poste_transformation', 'BDTOPO_BDD_WLD_WGS84G:pylone', 'BDTOPO_BDD_WLD_WGS84G:reservoir', 'BDTOPO_BDD_WLD_WGS84G:reservoir_eau', 'BDTOPO_BDD_WLD_WGS84G:route', 'BDTOPO_BDD_WLD_WGS84G:route_nommee', 'BDTOPO_BDD_WLD_WGS84G:route_primaire', 'BDTOPO_BDD_WLD_WGS84G:route_secondaire', 'BDTOPO_BDD_WLD_WGS84G:surface_activite', 'BDTOPO_BDD_WLD_WGS84G:surface_eau', 'BDTOPO_BDD_WLD_WGS84G:surface_route', 'BDTOPO_BDD_WLD_WGS84G:terrain_sport', 'BDTOPO_BDD_WLD_WGS84G:toponyme_communication', 'BDTOPO_BDD_WLD_WGS84G:toponyme_divers', 'BDTOPO_BDD_WLD_WGS84G:toponyme_ferre', 'BDTOPO_BDD_WLD_WGS84G:transport_cable', 'BDTOPO_BDD_WLD_WGS84G:troncon_cours_eau', 'BDTOPO_BDD_WLD_WGS84G:troncon_laisse', 'BDTOPO_BDD_WLD_WGS84G:troncon_voie_ferree', 'BDTOPO_BDD_WLD_WGS84G:zone_vegetation', 'BDTOPO_BDD_WLD_WGS84G_20190207:aire_triage', 'BDTOPO_BDD_WLD_WGS84G_20190207:arrondissement', 'BDTOPO_BDD_WLD_WGS84G_20190207:bati_indifferencie', 'BDTOPO_BDD_WLD_WGS84G_20190207:bati_industriel', 'BDTOPO_BDD_WLD_WGS84G_20190207:bati_remarquable', 'BDTOPO_BDD_WLD_WGS84G_20190207:canalisation_eau', 'BDTOPO_BDD_WLD_WGS84G_20190207:chef_lieu', 'BDTOPO_BDD_WLD_WGS84G_20190207:chemin', 'BDTOPO_BDD_WLD_WGS84G_20190207:cimetiere', 'BDTOPO_BDD_WLD_WGS84G_20190207:commune', 'BDTOPO_BDD_WLD_WGS84G_20190207:conduite', 'BDTOPO_BDD_WLD_WGS84G_20190207:construction_legere', 'BDTOPO_BDD_WLD_WGS84G_20190207:construction_lineaire', 'BDTOPO_BDD_WLD_WGS84G_20190207:construction_ponctuelle', 'BDTOPO_BDD_WLD_WGS84G_20190207:construction_surfacique', 'BDTOPO_BDD_WLD_WGS84G_20190207:gare', 'BDTOPO_BDD_WLD_WGS84G_20190207:hydronyme', 'BDTOPO_BDD_WLD_WGS84G_20190207:lieu_dit_habite', 'BDTOPO_BDD_WLD_WGS84G_20190207:lieu_dit_non_habite', 'BDTOPO_BDD_WLD_WGS84G_20190207:ligne_electrique', 'BDTOPO_BDD_WLD_WGS84G_20190207:ligne_orographique', 'BDTOPO_BDD_WLD_WGS84G_20190207:oronyme', 'BDTOPO_BDD_WLD_WGS84G_20190207:pai_administratif_militaire', 'BDTOPO_BDD_WLD_WGS84G_20190207:pai_culture_loisirs', 'BDTOPO_BDD_WLD_WGS84G_20190207:pai_espace_naturel', 'BDTOPO_BDD_WLD_WGS84G_20190207:pai_gestion_eaux', 'BDTOPO_BDD_WLD_WGS84G_20190207:pai_hydrographie', 'BDTOPO_BDD_WLD_WGS84G_20190207:pai_industriel_commercial', 'BDTOPO_BDD_WLD_WGS84G_20190207:pai_orographie', 'BDTOPO_BDD_WLD_WGS84G_20190207:pai_religieux', 'BDTOPO_BDD_WLD_WGS84G_20190207:pai_sante', 'BDTOPO_BDD_WLD_WGS84G_20190207:pai_science_enseignement', 'BDTOPO_BDD_WLD_WGS84G_20190207:pai_sport', 'BDTOPO_BDD_WLD_WGS84G_20190207:pai_transport', 'BDTOPO_BDD_WLD_WGS84G_20190207:pai_zone_habitation', 'BDTOPO_BDD_WLD_WGS84G_20190207:piste_aerodrome', 'BDTOPO_BDD_WLD_WGS84G_20190207:point_eau', 'BDTOPO_BDD_WLD_WGS84G_20190207:poste_transformation', 'BDTOPO_BDD_WLD_WGS84G_20190207:pylone', 'BDTOPO_BDD_WLD_WGS84G_20190207:reservoir', 'BDTOPO_BDD_WLD_WGS84G_20190207:reservoir_eau', 'BDTOPO_BDD_WLD_WGS84G_20190207:route', 'BDTOPO_BDD_WLD_WGS84G_20190207:route_nommee', 'BDTOPO_BDD_WLD_WGS84G_20190207:route_primaire', 'BDTOPO_BDD_WLD_WGS84G_20190207:route_secondaire', 'BDTOPO_BDD_WLD_WGS84G_20190207:surface_activite', 'BDTOPO_BDD_WLD_WGS84G_20190207:surface_eau', 'BDTOPO_BDD_WLD_WGS84G_20190207:surface_route', 'BDTOPO_BDD_WLD_WGS84G_20190207:terrain_sport', 'BDTOPO_BDD_WLD_WGS84G_20190207:toponyme_communication', 'BDTOPO_BDD_WLD_WGS84G_20190207:toponyme_divers', 'BDTOPO_BDD_WLD_WGS84G_20190207:toponyme_ferre', 'BDTOPO_BDD_WLD_WGS84G_20190207:transport_cable', 'BDTOPO_BDD_WLD_WGS84G_20190207:troncon_cours_eau', 'BDTOPO_BDD_WLD_WGS84G_20190207:troncon_laisse', 'BDTOPO_BDD_WLD_WGS84G_20190207:troncon_voie_ferree', 'BDTOPO_BDD_WLD_WGS84G_20190207:zone_vegetation', 'BDTOPO_V3:aerodrome', 'BDTOPO_V3:arrondissement', 'BDTOPO_V3:arrondissement_municipal', 'BDTOPO_V3:bassin_versant_topographique', 'BDTOPO_V3:batiment', 'BDTOPO_V3:canalisation', 'BDTOPO_V3:cimetiere', 'BDTOPO_V3:collectivite_territoriale', 'BDTOPO_V3:commune', 'BDTOPO_V3:condominium', 'BDTOPO_V3:construction_lineaire', 'BDTOPO_V3:construction_ponctuelle', 'BDTOPO_V3:construction_surfacique', 'BDTOPO_V3:cours_d_eau', 'BDTOPO_V3:departement', 'BDTOPO_V3:detail_hydrographique', 'BDTOPO_V3:detail_orographique', 'BDTOPO_V3:epci', 'BDTOPO_V3:equipement_de_transport', 'BDTOPO_V3:erp', 'BDTOPO_V3:foret_publique', 'BDTOPO_V3:haie', 'BDTOPO_V3:itineraire_autre', 'BDTOPO_V3:lieu_dit_non_habite', 'BDTOPO_V3:ligne_electrique', 'BDTOPO_V3:ligne_orographique', 'BDTOPO_V3:limite_terre_mer', 'BDTOPO_V3:noeud_hydrographique', 'BDTOPO_V3:non_communication', 'BDTOPO_V3:parc_ou_reserve', 'BDTOPO_V3:piste_d_aerodrome', 'BDTOPO_V3:plan_d_eau', 'BDTOPO_V3:point_de_repere', 'BDTOPO_V3:point_du_reseau', 'BDTOPO_V3:poste_de_transformation', 'BDTOPO_V3:pylone', 'BDTOPO_V3:region', 'BDTOPO_V3:reservoir', 'BDTOPO_V3:route_numerotee_ou_nommee', 'BDTOPO_V3:section_de_points_de_repere', 'BDTOPO_V3:surface_hydrographique', 'BDTOPO_V3:terrain_de_sport', 'BDTOPO_V3:toponymie_bati', 'BDTOPO_V3:toponymie_hydrographie', 'BDTOPO_V3:toponymie_lieux_nommes', 'BDTOPO_V3:toponymie_services_et_activites', 'BDTOPO_V3:toponymie_transport', 'BDTOPO_V3:toponymie_zones_reglementees', 'BDTOPO_V3:transport_par_cable', 'BDTOPO_V3:troncon_de_route', 'BDTOPO_V3:troncon_de_voie_ferree', 'BDTOPO_V3:troncon_hydrographique', 'BDTOPO_V3:voie_ferree_nommee', 'BDTOPO_V3:voie_nommee', 'BDTOPO_V3:zone_d_activite_ou_d_interet', 'BDTOPO_V3:zone_d_estran', 'BDTOPO_V3:zone_d_habitation', 'BDTOPO_V3:zone_de_vegetation', 'BDTOPO_V3_BDD_WLD_WGS84G_LATEST_22.4:aerodrome', 'BDTOPO_V3_BDD_WLD_WGS84G_LATEST_22.4:arrondissement', 'BDTOPO_V3_BDD_WLD_WGS84G_LATEST_22.4:arrondissement_municipal', 'BDTOPO_V3_BDD_WLD_WGS84G_LATEST_22.4:bassin_versant_topographique', 'BDTOPO_V3_BDD_WLD_WGS84G_LATEST_22.4:batiment', 'BDTOPO_V3_BDD_WLD_WGS84G_LATEST_22.4:canalisation', 'BDTOPO_V3_BDD_WLD_WGS84G_LATEST_22.4:cimetiere', 'BDTOPO_V3_BDD_WLD_WGS84G_LATEST_22.4:collectivite_territoriale', 'BDTOPO_V3_BDD_WLD_WGS84G_LATEST_22.4:commune', 'BDTOPO_V3_BDD_WLD_WGS84G_LATEST_22.4:condominium', 'BDTOPO_V3_BDD_WLD_WGS84G_LATEST_22.4:construction_lineaire', 'BDTOPO_V3_BDD_WLD_WGS84G_LATEST_22.4:construction_ponctuelle', 'BDTOPO_V3_BDD_WLD_WGS84G_LATEST_22.4:construction_surfacique', 'BDTOPO_V3_BDD_WLD_WGS84G_LATEST_22.4:cours_d_eau', 'BDTOPO_V3_BDD_WLD_WGS84G_LATEST_22.4:departement', 'BDTOPO_V3_BDD_WLD_WGS84G_LATEST_22.4:detail_hydrographique', 'BDTOPO_V3_BDD_WLD_WGS84G_LATEST_22.4:detail_orographique', 'BDTOPO_V3_BDD_WLD_WGS84G_LATEST_22.4:epci', 'BDTOPO_V3_BDD_WLD_WGS84G_LATEST_22.4:equipement_de_transport', 'BDTOPO_V3_BDD_WLD_WGS84G_LATEST_22.4:erp', 'BDTOPO_V3_BDD_WLD_WGS84G_LATEST_22.4:foret_publique', 'BDTOPO_V3_BDD_WLD_WGS84G_LATEST_22.4:haie', 'BDTOPO_V3_BDD_WLD_WGS84G_LATEST_22.4:itineraire_autre', 'BDTOPO_V3_BDD_WLD_WGS84G_LATEST_22.4:lieu_dit_non_habite', 'BDTOPO_V3_BDD_WLD_WGS84G_LATEST_22.4:ligne_electrique', 'BDTOPO_V3_BDD_WLD_WGS84G_LATEST_22.4:ligne_orographique', 'BDTOPO_V3_BDD_WLD_WGS84G_LATEST_22.4:limite_terre_mer', 'BDTOPO_V3_BDD_WLD_WGS84G_LATEST_22.4:noeud_hydrographique', 'BDTOPO_V3_BDD_WLD_WGS84G_LATEST_22.4:non_communication', 'BDTOPO_V3_BDD_WLD_WGS84G_LATEST_22.4:parc_ou_reserve', 'BDTOPO_V3_BDD_WLD_WGS84G_LATEST_22.4:piste_d_aerodrome', 'BDTOPO_V3_BDD_WLD_WGS84G_LATEST_22.4:plan_d_eau', 'BDTOPO_V3_BDD_WLD_WGS84G_LATEST_22.4:point_de_repere', 'BDTOPO_V3_BDD_WLD_WGS84G_LATEST_22.4:point_du_reseau', 'BDTOPO_V3_BDD_WLD_WGS84G_LATEST_22.4:poste_de_transformation', 'BDTOPO_V3_BDD_WLD_WGS84G_LATEST_22.4:pylone', 'BDTOPO_V3_BDD_WLD_WGS84G_LATEST_22.4:region', 'BDTOPO_V3_BDD_WLD_WGS84G_LATEST_22.4:reservoir', 'BDTOPO_V3_BDD_WLD_WGS84G_LATEST_22.4:route_numerotee_ou_nommee', 'BDTOPO_V3_BDD_WLD_WGS84G_LATEST_22.4:section_de_points_de_repere', 'BDTOPO_V3_BDD_WLD_WGS84G_LATEST_22.4:surface_hydrographique', 'BDTOPO_V3_BDD_WLD_WGS84G_LATEST_22.4:terrain_de_sport', 'BDTOPO_V3_BDD_WLD_WGS84G_LATEST_22.4:toponymie_bati', 'BDTOPO_V3_BDD_WLD_WGS84G_LATEST_22.4:toponymie_hydrographie', 'BDTOPO_V3_BDD_WLD_WGS84G_LATEST_22.4:toponymie_lieux_nommes', 'BDTOPO_V3_BDD_WLD_WGS84G_LATEST_22.4:toponymie_services_et_activites', 'BDTOPO_V3_BDD_WLD_WGS84G_LATEST_22.4:toponymie_transport', 'BDTOPO_V3_BDD_WLD_WGS84G_LATEST_22.4:toponymie_zones_reglementees', 'BDTOPO_V3_BDD_WLD_WGS84G_LATEST_22.4:transport_par_cable', 'BDTOPO_V3_BDD_WLD_WGS84G_LATEST_22.4:troncon_de_route', 'BDTOPO_V3_BDD_WLD_WGS84G_LATEST_22.4:troncon_de_voie_ferree', 'BDTOPO_V3_BDD_WLD_WGS84G_LATEST_22.4:troncon_hydrographique', 'BDTOPO_V3_BDD_WLD_WGS84G_LATEST_22.4:voie_ferree_nommee', 'BDTOPO_V3_BDD_WLD_WGS84G_LATEST_22.4:voie_nommee', 'BDTOPO_V3_BDD_WLD_WGS84G_LATEST_22.4:zone_d_activite_ou_d_interet', 'BDTOPO_V3_BDD_WLD_WGS84G_LATEST_22.4:zone_d_estran', 'BDTOPO_V3_BDD_WLD_WGS84G_LATEST_22.4:zone_d_habitation', 'BDTOPO_V3_BDD_WLD_WGS84G_LATEST_22.4:zone_de_vegetation', 'BDTOPO_V3_BDD_WLD_WGS84G_LATEST_224:aerodrome', 'BDTOPO_V3_BDD_WLD_WGS84G_LATEST_224:arrondissement', 'BDTOPO_V3_BDD_WLD_WGS84G_LATEST_224:arrondissement_municipal', 'BDTOPO_V3_BDD_WLD_WGS84G_LATEST_224:bassin_versant_topographique', 'BDTOPO_V3_BDD_WLD_WGS84G_LATEST_224:batiment', 'BDTOPO_V3_BDD_WLD_WGS84G_LATEST_224:canalisation', 'BDTOPO_V3_BDD_WLD_WGS84G_LATEST_224:cimetiere', 'BDTOPO_V3_BDD_WLD_WGS84G_LATEST_224:collectivite_territoriale', 'BDTOPO_V3_BDD_WLD_WGS84G_LATEST_224:commune', 'BDTOPO_V3_BDD_WLD_WGS84G_LATEST_224:construction_lineaire', 'BDTOPO_V3_BDD_WLD_WGS84G_LATEST_224:construction_ponctuelle', 'BDTOPO_V3_BDD_WLD_WGS84G_LATEST_224:construction_surfacique', 'BDTOPO_V3_BDD_WLD_WGS84G_LATEST_224:cours_d_eau', 'BDTOPO_V3_BDD_WLD_WGS84G_LATEST_224:departement', 'BDTOPO_V3_BDD_WLD_WGS84G_LATEST_224:detail_hydrographique', 'BDTOPO_V3_BDD_WLD_WGS84G_LATEST_224:detail_orographique', 'BDTOPO_V3_BDD_WLD_WGS84G_LATEST_224:epci', 'BDTOPO_V3_BDD_WLD_WGS84G_LATEST_224:equipement_de_transport', 'BDTOPO_V3_BDD_WLD_WGS84G_LATEST_224:erp', 'BDTOPO_V3_BDD_WLD_WGS84G_LATEST_224:foret_publique', 'BDTOPO_V3_BDD_WLD_WGS84G_LATEST_224:haie', 'BDTOPO_V3_BDD_WLD_WGS84G_LATEST_224:lieu_dit_non_habite', 'BDTOPO_V3_BDD_WLD_WGS84G_LATEST_224:ligne_electrique', 'BDTOPO_V3_BDD_WLD_WGS84G_LATEST_224:ligne_orographique', 'BDTOPO_V3_BDD_WLD_WGS84G_LATEST_224:limite_terre_mer', 'BDTOPO_V3_BDD_WLD_WGS84G_LATEST_224:noeud_hydrographique', 'BDTOPO_V3_BDD_WLD_WGS84G_LATEST_224:non_communication', 'BDTOPO_V3_BDD_WLD_WGS84G_LATEST_224:parc_ou_reserve', 'BDTOPO_V3_BDD_WLD_WGS84G_LATEST_224:piste_d_aerodrome', 'BDTOPO_V3_BDD_WLD_WGS84G_LATEST_224:plan_d_eau', 'BDTOPO_V3_BDD_WLD_WGS84G_LATEST_224:point_de_repere', 'BDTOPO_V3_BDD_WLD_WGS84G_LATEST_224:point_du_reseau', 'BDTOPO_V3_BDD_WLD_WGS84G_LATEST_224:poste_de_transformation', 'BDTOPO_V3_BDD_WLD_WGS84G_LATEST_224:pylone', 'BDTOPO_V3_BDD_WLD_WGS84G_LATEST_224:region', 'BDTOPO_V3_BDD_WLD_WGS84G_LATEST_224:reservoir', 'BDTOPO_V3_BDD_WLD_WGS84G_LATEST_224:route_numerotee_ou_nommee', 'BDTOPO_V3_BDD_WLD_WGS84G_LATEST_224:surface_hydrographique', 'BDTOPO_V3_BDD_WLD_WGS84G_LATEST_224:terrain_de_sport', 'BDTOPO_V3_BDD_WLD_WGS84G_LATEST_224:toponymie_bati', 'BDTOPO_V3_BDD_WLD_WGS84G_LATEST_224:toponymie_hydrographie', 'BDTOPO_V3_BDD_WLD_WGS84G_LATEST_224:toponymie_lieux_nommes', 'BDTOPO_V3_BDD_WLD_WGS84G_LATEST_224:toponymie_services_et_activites', 'BDTOPO_V3_BDD_WLD_WGS84G_LATEST_224:toponymie_transport', 'BDTOPO_V3_BDD_WLD_WGS84G_LATEST_224:toponymie_zones_reglementees', 'BDTOPO_V3_BDD_WLD_WGS84G_LATEST_224:transport_par_cable', 'BDTOPO_V3_BDD_WLD_WGS84G_LATEST_224:troncon_de_route', 'BDTOPO_V3_BDD_WLD_WGS84G_LATEST_224:troncon_de_voie_ferree', 'BDTOPO_V3_BDD_WLD_WGS84G_LATEST_224:troncon_hydrographique', 'BDTOPO_V3_BDD_WLD_WGS84G_LATEST_224:voie_ferree_nommee', 'BDTOPO_V3_BDD_WLD_WGS84G_LATEST_224:zone_d_activite_ou_d_interet', 'BDTOPO_V3_BDD_WLD_WGS84G_LATEST_224:zone_d_estran', 'BDTOPO_V3_BDD_WLD_WGS84G_LATEST_224:zone_d_habitation', 'BDTOPO_V3_BDD_WLD_WGS84G_LATEST_224:zone_de_vegetation', 'BDTOPO_V3_BDD_WLD_WGS84G_LATEST_23.2:aerodrome', 'BDTOPO_V3_BDD_WLD_WGS84G_LATEST_23.2:arrondissement', 'BDTOPO_V3_BDD_WLD_WGS84G_LATEST_23.2:arrondissement_municipal', 'BDTOPO_V3_BDD_WLD_WGS84G_LATEST_23.2:bassin_versant_topographique', 'BDTOPO_V3_BDD_WLD_WGS84G_LATEST_23.2:batiment', 'BDTOPO_V3_BDD_WLD_WGS84G_LATEST_23.2:canalisation', 'BDTOPO_V3_BDD_WLD_WGS84G_LATEST_23.2:cimetiere', 'BDTOPO_V3_BDD_WLD_WGS84G_LATEST_23.2:collectivite_territoriale', 'BDTOPO_V3_BDD_WLD_WGS84G_LATEST_23.2:commune', 'BDTOPO_V3_BDD_WLD_WGS84G_LATEST_23.2:condominium', 'BDTOPO_V3_BDD_WLD_WGS84G_LATEST_23.2:construction_lineaire', 'BDTOPO_V3_BDD_WLD_WGS84G_LATEST_23.2:construction_ponctuelle', 'BDTOPO_V3_BDD_WLD_WGS84G_LATEST_23.2:construction_surfacique', 'BDTOPO_V3_BDD_WLD_WGS84G_LATEST_23.2:cours_d_eau', 'BDTOPO_V3_BDD_WLD_WGS84G_LATEST_23.2:departement', 'BDTOPO_V3_BDD_WLD_WGS84G_LATEST_23.2:detail_hydrographique', 'BDTOPO_V3_BDD_WLD_WGS84G_LATEST_23.2:detail_orographique', 'BDTOPO_V3_BDD_WLD_WGS84G_LATEST_23.2:epci', 'BDTOPO_V3_BDD_WLD_WGS84G_LATEST_23.2:equipement_de_transport', 'BDTOPO_V3_BDD_WLD_WGS84G_LATEST_23.2:erp', 'BDTOPO_V3_BDD_WLD_WGS84G_LATEST_23.2:foret_publique', 'BDTOPO_V3_BDD_WLD_WGS84G_LATEST_23.2:haie', 'BDTOPO_V3_BDD_WLD_WGS84G_LATEST_23.2:itineraire_autre', 'BDTOPO_V3_BDD_WLD_WGS84G_LATEST_23.2:lieu_dit_non_habite', 'BDTOPO_V3_BDD_WLD_WGS84G_LATEST_23.2:ligne_electrique', 'BDTOPO_V3_BDD_WLD_WGS84G_LATEST_23.2:ligne_orographique', 'BDTOPO_V3_BDD_WLD_WGS84G_LATEST_23.2:limite_terre_mer', 'BDTOPO_V3_BDD_WLD_WGS84G_LATEST_23.2:noeud_hydrographique', 'BDTOPO_V3_BDD_WLD_WGS84G_LATEST_23.2:non_communication', 'BDTOPO_V3_BDD_WLD_WGS84G_LATEST_23.2:parc_ou_reserve', 'BDTOPO_V3_BDD_WLD_WGS84G_LATEST_23.2:piste_d_aerodrome', 'BDTOPO_V3_BDD_WLD_WGS84G_LATEST_23.2:plan_d_eau', 'BDTOPO_V3_BDD_WLD_WGS84G_LATEST_23.2:point_de_repere', 'BDTOPO_V3_BDD_WLD_WGS84G_LATEST_23.2:point_du_reseau', 'BDTOPO_V3_BDD_WLD_WGS84G_LATEST_23.2:poste_de_transformation', 'BDTOPO_V3_BDD_WLD_WGS84G_LATEST_23.2:pylone', 'BDTOPO_V3_BDD_WLD_WGS84G_LATEST_23.2:region', 'BDTOPO_V3_BDD_WLD_WGS84G_LATEST_23.2:reservoir', 'BDTOPO_V3_BDD_WLD_WGS84G_LATEST_23.2:route_numerotee_ou_nommee', 'BDTOPO_V3_BDD_WLD_WGS84G_LATEST_23.2:section_de_points_de_repere', 'BDTOPO_V3_BDD_WLD_WGS84G_LATEST_23.2:surface_hydrographique', 'BDTOPO_V3_BDD_WLD_WGS84G_LATEST_23.2:terrain_de_sport', 'BDTOPO_V3_BDD_WLD_WGS84G_LATEST_23.2:toponymie_bati', 'BDTOPO_V3_BDD_WLD_WGS84G_LATEST_23.2:toponymie_hydrographie', 'BDTOPO_V3_BDD_WLD_WGS84G_LATEST_23.2:toponymie_lieux_nommes', 'BDTOPO_V3_BDD_WLD_WGS84G_LATEST_23.2:toponymie_services_et_activites', 'BDTOPO_V3_BDD_WLD_WGS84G_LATEST_23.2:toponymie_transport', 'BDTOPO_V3_BDD_WLD_WGS84G_LATEST_23.2:toponymie_zones_reglementees', 'BDTOPO_V3_BDD_WLD_WGS84G_LATEST_23.2:transport_par_cable', 'BDTOPO_V3_BDD_WLD_WGS84G_LATEST_23.2:troncon_de_route', 'BDTOPO_V3_BDD_WLD_WGS84G_LATEST_23.2:troncon_de_voie_ferree', 'BDTOPO_V3_BDD_WLD_WGS84G_LATEST_23.2:troncon_hydrographique', 'BDTOPO_V3_BDD_WLD_WGS84G_LATEST_23.2:voie_ferree_nommee', 'BDTOPO_V3_BDD_WLD_WGS84G_LATEST_23.2:voie_nommee', 'BDTOPO_V3_BDD_WLD_WGS84G_LATEST_23.2:zone_d_activite_ou_d_interet', 'BDTOPO_V3_BDD_WLD_WGS84G_LATEST_23.2:zone_d_estran', 'BDTOPO_V3_BDD_WLD_WGS84G_LATEST_23.2:zone_d_habitation', 'BDTOPO_V3_BDD_WLD_WGS84G_LATEST_23.2:zone_de_vegetation']\n"
     ]
    }
   ],
   "source": [
    "cog_files = [\n",
    "    x for x in wfs.contents\n",
    "    if 'bdtopo' in x.lower()\n",
    "    ]\n",
    "print(cog_files)"
   ]
  },
  {
   "cell_type": "code",
   "execution_count": 4,
   "metadata": {},
   "outputs": [
    {
     "name": "stdout",
     "output_type": "stream",
     "text": [
      "['BDTOPO.EXTENSION.NOM_USUEL:extension_nom_usuel', 'BDTOPO_V3:aerodrome', 'BDTOPO_V3:arrondissement', 'BDTOPO_V3:arrondissement_municipal', 'BDTOPO_V3:bassin_versant_topographique', 'BDTOPO_V3:batiment', 'BDTOPO_V3:canalisation', 'BDTOPO_V3:cimetiere', 'BDTOPO_V3:collectivite_territoriale', 'BDTOPO_V3:commune', 'BDTOPO_V3:condominium', 'BDTOPO_V3:construction_lineaire', 'BDTOPO_V3:construction_ponctuelle', 'BDTOPO_V3:construction_surfacique', 'BDTOPO_V3:cours_d_eau', 'BDTOPO_V3:departement', 'BDTOPO_V3:detail_hydrographique', 'BDTOPO_V3:detail_orographique', 'BDTOPO_V3:epci', 'BDTOPO_V3:equipement_de_transport', 'BDTOPO_V3:erp', 'BDTOPO_V3:foret_publique', 'BDTOPO_V3:haie', 'BDTOPO_V3:itineraire_autre', 'BDTOPO_V3:lieu_dit_non_habite', 'BDTOPO_V3:ligne_electrique', 'BDTOPO_V3:ligne_orographique', 'BDTOPO_V3:limite_terre_mer', 'BDTOPO_V3:noeud_hydrographique', 'BDTOPO_V3:non_communication', 'BDTOPO_V3:parc_ou_reserve', 'BDTOPO_V3:piste_d_aerodrome', 'BDTOPO_V3:plan_d_eau', 'BDTOPO_V3:point_de_repere', 'BDTOPO_V3:point_du_reseau', 'BDTOPO_V3:poste_de_transformation', 'BDTOPO_V3:pylone', 'BDTOPO_V3:region', 'BDTOPO_V3:reservoir', 'BDTOPO_V3:route_numerotee_ou_nommee', 'BDTOPO_V3:section_de_points_de_repere', 'BDTOPO_V3:surface_hydrographique', 'BDTOPO_V3:terrain_de_sport', 'BDTOPO_V3:toponymie_bati', 'BDTOPO_V3:toponymie_hydrographie', 'BDTOPO_V3:toponymie_lieux_nommes', 'BDTOPO_V3:toponymie_services_et_activites', 'BDTOPO_V3:toponymie_transport', 'BDTOPO_V3:toponymie_zones_reglementees', 'BDTOPO_V3:transport_par_cable', 'BDTOPO_V3:troncon_de_route', 'BDTOPO_V3:troncon_de_voie_ferree', 'BDTOPO_V3:troncon_hydrographique', 'BDTOPO_V3:voie_ferree_nommee', 'BDTOPO_V3:voie_nommee', 'BDTOPO_V3:zone_d_activite_ou_d_interet', 'BDTOPO_V3:zone_d_estran', 'BDTOPO_V3:zone_d_habitation', 'BDTOPO_V3:zone_de_vegetation']\n"
     ]
    }
   ],
   "source": [
    "cog_files = [\n",
    "    x for x in wfs.contents\n",
    "    if 'bdtopo' in x.lower()\n",
    "    if 'bdd' not in x.lower()\n",
    "    ]\n",
    "print(cog_files)"
   ]
  },
  {
   "cell_type": "code",
   "execution_count": 5,
   "metadata": {},
   "outputs": [
    {
     "name": "stdout",
     "output_type": "stream",
     "text": [
      "['BDTOPO_V3_BDD_WLD_WGS84G_LATEST_22.4:aerodrome', 'BDTOPO_V3_BDD_WLD_WGS84G_LATEST_22.4:arrondissement', 'BDTOPO_V3_BDD_WLD_WGS84G_LATEST_22.4:arrondissement_municipal', 'BDTOPO_V3_BDD_WLD_WGS84G_LATEST_22.4:bassin_versant_topographique', 'BDTOPO_V3_BDD_WLD_WGS84G_LATEST_22.4:batiment', 'BDTOPO_V3_BDD_WLD_WGS84G_LATEST_22.4:canalisation', 'BDTOPO_V3_BDD_WLD_WGS84G_LATEST_22.4:cimetiere', 'BDTOPO_V3_BDD_WLD_WGS84G_LATEST_22.4:collectivite_territoriale', 'BDTOPO_V3_BDD_WLD_WGS84G_LATEST_22.4:commune', 'BDTOPO_V3_BDD_WLD_WGS84G_LATEST_22.4:condominium', 'BDTOPO_V3_BDD_WLD_WGS84G_LATEST_22.4:construction_lineaire', 'BDTOPO_V3_BDD_WLD_WGS84G_LATEST_22.4:construction_ponctuelle', 'BDTOPO_V3_BDD_WLD_WGS84G_LATEST_22.4:construction_surfacique', 'BDTOPO_V3_BDD_WLD_WGS84G_LATEST_22.4:cours_d_eau', 'BDTOPO_V3_BDD_WLD_WGS84G_LATEST_22.4:departement', 'BDTOPO_V3_BDD_WLD_WGS84G_LATEST_22.4:detail_hydrographique', 'BDTOPO_V3_BDD_WLD_WGS84G_LATEST_22.4:detail_orographique', 'BDTOPO_V3_BDD_WLD_WGS84G_LATEST_22.4:epci', 'BDTOPO_V3_BDD_WLD_WGS84G_LATEST_22.4:equipement_de_transport', 'BDTOPO_V3_BDD_WLD_WGS84G_LATEST_22.4:erp', 'BDTOPO_V3_BDD_WLD_WGS84G_LATEST_22.4:foret_publique', 'BDTOPO_V3_BDD_WLD_WGS84G_LATEST_22.4:haie', 'BDTOPO_V3_BDD_WLD_WGS84G_LATEST_22.4:itineraire_autre', 'BDTOPO_V3_BDD_WLD_WGS84G_LATEST_22.4:lieu_dit_non_habite', 'BDTOPO_V3_BDD_WLD_WGS84G_LATEST_22.4:ligne_electrique', 'BDTOPO_V3_BDD_WLD_WGS84G_LATEST_22.4:ligne_orographique', 'BDTOPO_V3_BDD_WLD_WGS84G_LATEST_22.4:limite_terre_mer', 'BDTOPO_V3_BDD_WLD_WGS84G_LATEST_22.4:noeud_hydrographique', 'BDTOPO_V3_BDD_WLD_WGS84G_LATEST_22.4:non_communication', 'BDTOPO_V3_BDD_WLD_WGS84G_LATEST_22.4:parc_ou_reserve', 'BDTOPO_V3_BDD_WLD_WGS84G_LATEST_22.4:piste_d_aerodrome', 'BDTOPO_V3_BDD_WLD_WGS84G_LATEST_22.4:plan_d_eau', 'BDTOPO_V3_BDD_WLD_WGS84G_LATEST_22.4:point_de_repere', 'BDTOPO_V3_BDD_WLD_WGS84G_LATEST_22.4:point_du_reseau', 'BDTOPO_V3_BDD_WLD_WGS84G_LATEST_22.4:poste_de_transformation', 'BDTOPO_V3_BDD_WLD_WGS84G_LATEST_22.4:pylone', 'BDTOPO_V3_BDD_WLD_WGS84G_LATEST_22.4:region', 'BDTOPO_V3_BDD_WLD_WGS84G_LATEST_22.4:reservoir', 'BDTOPO_V3_BDD_WLD_WGS84G_LATEST_22.4:route_numerotee_ou_nommee', 'BDTOPO_V3_BDD_WLD_WGS84G_LATEST_22.4:section_de_points_de_repere', 'BDTOPO_V3_BDD_WLD_WGS84G_LATEST_22.4:surface_hydrographique', 'BDTOPO_V3_BDD_WLD_WGS84G_LATEST_22.4:terrain_de_sport', 'BDTOPO_V3_BDD_WLD_WGS84G_LATEST_22.4:toponymie_bati', 'BDTOPO_V3_BDD_WLD_WGS84G_LATEST_22.4:toponymie_hydrographie', 'BDTOPO_V3_BDD_WLD_WGS84G_LATEST_22.4:toponymie_lieux_nommes', 'BDTOPO_V3_BDD_WLD_WGS84G_LATEST_22.4:toponymie_services_et_activites', 'BDTOPO_V3_BDD_WLD_WGS84G_LATEST_22.4:toponymie_transport', 'BDTOPO_V3_BDD_WLD_WGS84G_LATEST_22.4:toponymie_zones_reglementees', 'BDTOPO_V3_BDD_WLD_WGS84G_LATEST_22.4:transport_par_cable', 'BDTOPO_V3_BDD_WLD_WGS84G_LATEST_22.4:troncon_de_route', 'BDTOPO_V3_BDD_WLD_WGS84G_LATEST_22.4:troncon_de_voie_ferree', 'BDTOPO_V3_BDD_WLD_WGS84G_LATEST_22.4:troncon_hydrographique', 'BDTOPO_V3_BDD_WLD_WGS84G_LATEST_22.4:voie_ferree_nommee', 'BDTOPO_V3_BDD_WLD_WGS84G_LATEST_22.4:voie_nommee', 'BDTOPO_V3_BDD_WLD_WGS84G_LATEST_22.4:zone_d_activite_ou_d_interet', 'BDTOPO_V3_BDD_WLD_WGS84G_LATEST_22.4:zone_d_estran', 'BDTOPO_V3_BDD_WLD_WGS84G_LATEST_22.4:zone_d_habitation', 'BDTOPO_V3_BDD_WLD_WGS84G_LATEST_22.4:zone_de_vegetation', 'BDTOPO_V3_BDD_WLD_WGS84G_LATEST_224:aerodrome', 'BDTOPO_V3_BDD_WLD_WGS84G_LATEST_224:arrondissement', 'BDTOPO_V3_BDD_WLD_WGS84G_LATEST_224:arrondissement_municipal', 'BDTOPO_V3_BDD_WLD_WGS84G_LATEST_224:bassin_versant_topographique', 'BDTOPO_V3_BDD_WLD_WGS84G_LATEST_224:batiment', 'BDTOPO_V3_BDD_WLD_WGS84G_LATEST_224:canalisation', 'BDTOPO_V3_BDD_WLD_WGS84G_LATEST_224:cimetiere', 'BDTOPO_V3_BDD_WLD_WGS84G_LATEST_224:collectivite_territoriale', 'BDTOPO_V3_BDD_WLD_WGS84G_LATEST_224:commune', 'BDTOPO_V3_BDD_WLD_WGS84G_LATEST_224:construction_lineaire', 'BDTOPO_V3_BDD_WLD_WGS84G_LATEST_224:construction_ponctuelle', 'BDTOPO_V3_BDD_WLD_WGS84G_LATEST_224:construction_surfacique', 'BDTOPO_V3_BDD_WLD_WGS84G_LATEST_224:cours_d_eau', 'BDTOPO_V3_BDD_WLD_WGS84G_LATEST_224:departement', 'BDTOPO_V3_BDD_WLD_WGS84G_LATEST_224:detail_hydrographique', 'BDTOPO_V3_BDD_WLD_WGS84G_LATEST_224:detail_orographique', 'BDTOPO_V3_BDD_WLD_WGS84G_LATEST_224:epci', 'BDTOPO_V3_BDD_WLD_WGS84G_LATEST_224:equipement_de_transport', 'BDTOPO_V3_BDD_WLD_WGS84G_LATEST_224:erp', 'BDTOPO_V3_BDD_WLD_WGS84G_LATEST_224:foret_publique', 'BDTOPO_V3_BDD_WLD_WGS84G_LATEST_224:haie', 'BDTOPO_V3_BDD_WLD_WGS84G_LATEST_224:lieu_dit_non_habite', 'BDTOPO_V3_BDD_WLD_WGS84G_LATEST_224:ligne_electrique', 'BDTOPO_V3_BDD_WLD_WGS84G_LATEST_224:ligne_orographique', 'BDTOPO_V3_BDD_WLD_WGS84G_LATEST_224:limite_terre_mer', 'BDTOPO_V3_BDD_WLD_WGS84G_LATEST_224:noeud_hydrographique', 'BDTOPO_V3_BDD_WLD_WGS84G_LATEST_224:non_communication', 'BDTOPO_V3_BDD_WLD_WGS84G_LATEST_224:parc_ou_reserve', 'BDTOPO_V3_BDD_WLD_WGS84G_LATEST_224:piste_d_aerodrome', 'BDTOPO_V3_BDD_WLD_WGS84G_LATEST_224:plan_d_eau', 'BDTOPO_V3_BDD_WLD_WGS84G_LATEST_224:point_de_repere', 'BDTOPO_V3_BDD_WLD_WGS84G_LATEST_224:point_du_reseau', 'BDTOPO_V3_BDD_WLD_WGS84G_LATEST_224:poste_de_transformation', 'BDTOPO_V3_BDD_WLD_WGS84G_LATEST_224:pylone', 'BDTOPO_V3_BDD_WLD_WGS84G_LATEST_224:region', 'BDTOPO_V3_BDD_WLD_WGS84G_LATEST_224:reservoir', 'BDTOPO_V3_BDD_WLD_WGS84G_LATEST_224:route_numerotee_ou_nommee', 'BDTOPO_V3_BDD_WLD_WGS84G_LATEST_224:surface_hydrographique', 'BDTOPO_V3_BDD_WLD_WGS84G_LATEST_224:terrain_de_sport', 'BDTOPO_V3_BDD_WLD_WGS84G_LATEST_224:toponymie_bati', 'BDTOPO_V3_BDD_WLD_WGS84G_LATEST_224:toponymie_hydrographie', 'BDTOPO_V3_BDD_WLD_WGS84G_LATEST_224:toponymie_lieux_nommes', 'BDTOPO_V3_BDD_WLD_WGS84G_LATEST_224:toponymie_services_et_activites', 'BDTOPO_V3_BDD_WLD_WGS84G_LATEST_224:toponymie_transport', 'BDTOPO_V3_BDD_WLD_WGS84G_LATEST_224:toponymie_zones_reglementees', 'BDTOPO_V3_BDD_WLD_WGS84G_LATEST_224:transport_par_cable', 'BDTOPO_V3_BDD_WLD_WGS84G_LATEST_224:troncon_de_route', 'BDTOPO_V3_BDD_WLD_WGS84G_LATEST_224:troncon_de_voie_ferree', 'BDTOPO_V3_BDD_WLD_WGS84G_LATEST_224:troncon_hydrographique', 'BDTOPO_V3_BDD_WLD_WGS84G_LATEST_224:voie_ferree_nommee', 'BDTOPO_V3_BDD_WLD_WGS84G_LATEST_224:zone_d_activite_ou_d_interet', 'BDTOPO_V3_BDD_WLD_WGS84G_LATEST_224:zone_d_estran', 'BDTOPO_V3_BDD_WLD_WGS84G_LATEST_224:zone_d_habitation', 'BDTOPO_V3_BDD_WLD_WGS84G_LATEST_224:zone_de_vegetation', 'BDTOPO_V3_BDD_WLD_WGS84G_LATEST_23.2:aerodrome', 'BDTOPO_V3_BDD_WLD_WGS84G_LATEST_23.2:arrondissement', 'BDTOPO_V3_BDD_WLD_WGS84G_LATEST_23.2:arrondissement_municipal', 'BDTOPO_V3_BDD_WLD_WGS84G_LATEST_23.2:bassin_versant_topographique', 'BDTOPO_V3_BDD_WLD_WGS84G_LATEST_23.2:batiment', 'BDTOPO_V3_BDD_WLD_WGS84G_LATEST_23.2:canalisation', 'BDTOPO_V3_BDD_WLD_WGS84G_LATEST_23.2:cimetiere', 'BDTOPO_V3_BDD_WLD_WGS84G_LATEST_23.2:collectivite_territoriale', 'BDTOPO_V3_BDD_WLD_WGS84G_LATEST_23.2:commune', 'BDTOPO_V3_BDD_WLD_WGS84G_LATEST_23.2:condominium', 'BDTOPO_V3_BDD_WLD_WGS84G_LATEST_23.2:construction_lineaire', 'BDTOPO_V3_BDD_WLD_WGS84G_LATEST_23.2:construction_ponctuelle', 'BDTOPO_V3_BDD_WLD_WGS84G_LATEST_23.2:construction_surfacique', 'BDTOPO_V3_BDD_WLD_WGS84G_LATEST_23.2:cours_d_eau', 'BDTOPO_V3_BDD_WLD_WGS84G_LATEST_23.2:departement', 'BDTOPO_V3_BDD_WLD_WGS84G_LATEST_23.2:detail_hydrographique', 'BDTOPO_V3_BDD_WLD_WGS84G_LATEST_23.2:detail_orographique', 'BDTOPO_V3_BDD_WLD_WGS84G_LATEST_23.2:epci', 'BDTOPO_V3_BDD_WLD_WGS84G_LATEST_23.2:equipement_de_transport', 'BDTOPO_V3_BDD_WLD_WGS84G_LATEST_23.2:erp', 'BDTOPO_V3_BDD_WLD_WGS84G_LATEST_23.2:foret_publique', 'BDTOPO_V3_BDD_WLD_WGS84G_LATEST_23.2:haie', 'BDTOPO_V3_BDD_WLD_WGS84G_LATEST_23.2:itineraire_autre', 'BDTOPO_V3_BDD_WLD_WGS84G_LATEST_23.2:lieu_dit_non_habite', 'BDTOPO_V3_BDD_WLD_WGS84G_LATEST_23.2:ligne_electrique', 'BDTOPO_V3_BDD_WLD_WGS84G_LATEST_23.2:ligne_orographique', 'BDTOPO_V3_BDD_WLD_WGS84G_LATEST_23.2:limite_terre_mer', 'BDTOPO_V3_BDD_WLD_WGS84G_LATEST_23.2:noeud_hydrographique', 'BDTOPO_V3_BDD_WLD_WGS84G_LATEST_23.2:non_communication', 'BDTOPO_V3_BDD_WLD_WGS84G_LATEST_23.2:parc_ou_reserve', 'BDTOPO_V3_BDD_WLD_WGS84G_LATEST_23.2:piste_d_aerodrome', 'BDTOPO_V3_BDD_WLD_WGS84G_LATEST_23.2:plan_d_eau', 'BDTOPO_V3_BDD_WLD_WGS84G_LATEST_23.2:point_de_repere', 'BDTOPO_V3_BDD_WLD_WGS84G_LATEST_23.2:point_du_reseau', 'BDTOPO_V3_BDD_WLD_WGS84G_LATEST_23.2:poste_de_transformation', 'BDTOPO_V3_BDD_WLD_WGS84G_LATEST_23.2:pylone', 'BDTOPO_V3_BDD_WLD_WGS84G_LATEST_23.2:region', 'BDTOPO_V3_BDD_WLD_WGS84G_LATEST_23.2:reservoir', 'BDTOPO_V3_BDD_WLD_WGS84G_LATEST_23.2:route_numerotee_ou_nommee', 'BDTOPO_V3_BDD_WLD_WGS84G_LATEST_23.2:section_de_points_de_repere', 'BDTOPO_V3_BDD_WLD_WGS84G_LATEST_23.2:surface_hydrographique', 'BDTOPO_V3_BDD_WLD_WGS84G_LATEST_23.2:terrain_de_sport', 'BDTOPO_V3_BDD_WLD_WGS84G_LATEST_23.2:toponymie_bati', 'BDTOPO_V3_BDD_WLD_WGS84G_LATEST_23.2:toponymie_hydrographie', 'BDTOPO_V3_BDD_WLD_WGS84G_LATEST_23.2:toponymie_lieux_nommes', 'BDTOPO_V3_BDD_WLD_WGS84G_LATEST_23.2:toponymie_services_et_activites', 'BDTOPO_V3_BDD_WLD_WGS84G_LATEST_23.2:toponymie_transport', 'BDTOPO_V3_BDD_WLD_WGS84G_LATEST_23.2:toponymie_zones_reglementees', 'BDTOPO_V3_BDD_WLD_WGS84G_LATEST_23.2:transport_par_cable', 'BDTOPO_V3_BDD_WLD_WGS84G_LATEST_23.2:troncon_de_route', 'BDTOPO_V3_BDD_WLD_WGS84G_LATEST_23.2:troncon_de_voie_ferree', 'BDTOPO_V3_BDD_WLD_WGS84G_LATEST_23.2:troncon_hydrographique', 'BDTOPO_V3_BDD_WLD_WGS84G_LATEST_23.2:voie_ferree_nommee', 'BDTOPO_V3_BDD_WLD_WGS84G_LATEST_23.2:voie_nommee', 'BDTOPO_V3_BDD_WLD_WGS84G_LATEST_23.2:zone_d_activite_ou_d_interet', 'BDTOPO_V3_BDD_WLD_WGS84G_LATEST_23.2:zone_d_estran', 'BDTOPO_V3_BDD_WLD_WGS84G_LATEST_23.2:zone_d_habitation', 'BDTOPO_V3_BDD_WLD_WGS84G_LATEST_23.2:zone_de_vegetation']\n"
     ]
    }
   ],
   "source": [
    "cog_files = [\n",
    "    x for x in wfs.contents\n",
    "    if 'bdtopo' in x.lower()\n",
    "    and 'latest' in x.lower()\n",
    "    ]\n",
    "print(cog_files)"
   ]
  },
  {
   "cell_type": "code",
   "execution_count": 7,
   "metadata": {},
   "outputs": [],
   "source": [
    "from cartiflette import download\n",
    "from importlib import reload\n",
    "download = reload(download)"
   ]
  },
  {
   "cell_type": "code",
   "execution_count": 8,
   "metadata": {},
   "outputs": [
    {
     "name": "stderr",
     "output_type": "stream",
     "text": [
      "projet-cartiflette/diffusion/shapefiles-test1/md5.json\n",
      "md5 not found\n",
      "projet-cartiflette/diffusion/shapefiles-test1/md5.json  \n",
      "md5 not found\n",
      "                                                        \r"
     ]
    }
   ],
   "source": [
    "config = download.download_sources(\n",
    "    providers = [\"IGN\"],\n",
    "    dataset_family = [\"ADMINEXPRESS\"],\n",
    "    sources = [\"EXPRESS-COG-TERRITOIRE\"],\n",
    "    territories = [\"guadeloupe\", \"martinique\"],\n",
    "    years = [2019]\n",
    ")"
   ]
  },
  {
   "cell_type": "code",
   "execution_count": 9,
   "metadata": {},
   "outputs": [
    {
     "data": {
      "text/plain": [
       "{'IGN': {'ADMINEXPRESS': {'EXPRESS-COG-TERRITOIRE': {'guadeloupe': {2019: {'downloaded': True,\n",
       "      'hash': '2fe18fa95dfa245e9890e7dc9cc78f3e',\n",
       "      'path': ('/tmp/tmpo7_ktdai/ADMIN-EXPRESS-COG_2-0__SHP__FRA_2019-09-24/ADMIN-EXPRESS-COG/1_DONNEES_LIVRAISON_2019-09-24/ADE-COG_2-0_SHP_RGAF09UTM20_D972',\n",
       "       '/tmp/tmpo7_ktdai/ADMIN-EXPRESS-COG_2-0__SHP__FRA_2019-09-24/ADMIN-EXPRESS-COG/1_DONNEES_LIVRAISON_2019-09-24/ADE-COG_2-0_SHP_RGAF09UTM20_D971')}},\n",
       "    'martinique': {2019: {'downloaded': True,\n",
       "      'hash': '2fe18fa95dfa245e9890e7dc9cc78f3e',\n",
       "      'path': ('/tmp/tmpc5o7ajpm/ADMIN-EXPRESS-COG_2-0__SHP__FRA_2019-09-24/ADMIN-EXPRESS-COG/1_DONNEES_LIVRAISON_2019-09-24/ADE-COG_2-0_SHP_RGAF09UTM20_D971',\n",
       "       '/tmp/tmpc5o7ajpm/ADMIN-EXPRESS-COG_2-0__SHP__FRA_2019-09-24/ADMIN-EXPRESS-COG/1_DONNEES_LIVRAISON_2019-09-24/ADE-COG_2-0_SHP_RGAF09UTM20_D972')}}}}}}"
      ]
     },
     "execution_count": 9,
     "metadata": {},
     "output_type": "execute_result"
    }
   ],
   "source": [
    "config"
   ]
  },
  {
   "cell_type": "code",
   "execution_count": 10,
   "metadata": {},
   "outputs": [
    {
     "data": {
      "text/plain": [
       "{'EXPRESS-COG-TERRITOIRE': {'guadeloupe': {2019: {'downloaded': True,\n",
       "    'hash': '2fe18fa95dfa245e9890e7dc9cc78f3e',\n",
       "    'path': ('/tmp/tmpo7_ktdai/ADMIN-EXPRESS-COG_2-0__SHP__FRA_2019-09-24/ADMIN-EXPRESS-COG/1_DONNEES_LIVRAISON_2019-09-24/ADE-COG_2-0_SHP_RGAF09UTM20_D972',\n",
       "     '/tmp/tmpo7_ktdai/ADMIN-EXPRESS-COG_2-0__SHP__FRA_2019-09-24/ADMIN-EXPRESS-COG/1_DONNEES_LIVRAISON_2019-09-24/ADE-COG_2-0_SHP_RGAF09UTM20_D971')}},\n",
       "  'martinique': {2019: {'downloaded': True,\n",
       "    'hash': '2fe18fa95dfa245e9890e7dc9cc78f3e',\n",
       "    'path': ('/tmp/tmpc5o7ajpm/ADMIN-EXPRESS-COG_2-0__SHP__FRA_2019-09-24/ADMIN-EXPRESS-COG/1_DONNEES_LIVRAISON_2019-09-24/ADE-COG_2-0_SHP_RGAF09UTM20_D971',\n",
       "     '/tmp/tmpc5o7ajpm/ADMIN-EXPRESS-COG_2-0__SHP__FRA_2019-09-24/ADMIN-EXPRESS-COG/1_DONNEES_LIVRAISON_2019-09-24/ADE-COG_2-0_SHP_RGAF09UTM20_D972')}}}}"
      ]
     },
     "execution_count": 10,
     "metadata": {},
     "output_type": "execute_result"
    }
   ],
   "source": [
    "config['IGN']['ADMINEXPRESS']"
   ]
  },
  {
   "cell_type": "code",
   "execution_count": 14,
   "metadata": {},
   "outputs": [
    {
     "name": "stderr",
     "output_type": "stream",
     "text": [
      "projet-cartiflette/diffusion/shapefiles-test1/md5.json\n",
      "md5 not found\n"
     ]
    },
    {
     "ename": "KeyError",
     "evalue": "'WGS84G_FRA'",
     "output_type": "error",
     "traceback": [
      "\u001b[0;31m---------------------------------------------------------------------------\u001b[0m",
      "\u001b[0;31mKeyError\u001b[0m                                  Traceback (most recent call last)",
      "File \u001b[0;32m/opt/mamba/lib/python3.11/site-packages/cartiflette/download/download.py:196\u001b[0m, in \u001b[0;36mDataset.get_path_from_provider\u001b[0;34m(self)\u001b[0m\n\u001b[1;32m    195\u001b[0m \u001b[39mtry\u001b[39;00m:\n\u001b[0;32m--> 196\u001b[0m     url \u001b[39m=\u001b[39m sources[year][\u001b[39m\"\u001b[39;49m\u001b[39mfile\u001b[39;49m\u001b[39m\"\u001b[39;49m]\n\u001b[1;32m    198\u001b[0m \u001b[39mexcept\u001b[39;00m \u001b[39mKeyError\u001b[39;00m:\n",
      "\u001b[0;31mKeyError\u001b[0m: 'file'",
      "\nDuring handling of the above exception, another exception occurred:\n",
      "\u001b[0;31mKeyError\u001b[0m                                  Traceback (most recent call last)",
      "Cell \u001b[0;32mIn[14], line 1\u001b[0m\n\u001b[0;32m----> 1\u001b[0m config_bdtopo \u001b[39m=\u001b[39m download\u001b[39m.\u001b[39;49mdownload_sources(\n\u001b[1;32m      2\u001b[0m     providers \u001b[39m=\u001b[39;49m [\u001b[39m\"\u001b[39;49m\u001b[39mIGN\u001b[39;49m\u001b[39m\"\u001b[39;49m],\n\u001b[1;32m      3\u001b[0m     dataset_family \u001b[39m=\u001b[39;49m [\u001b[39m\"\u001b[39;49m\u001b[39mBDTOPO\u001b[39;49m\u001b[39m\"\u001b[39;49m],\n\u001b[1;32m      4\u001b[0m     sources \u001b[39m=\u001b[39;49m [\u001b[39m\"\u001b[39;49m\u001b[39mBDTOPO_shapefiles\u001b[39;49m\u001b[39m\"\u001b[39;49m],\n\u001b[1;32m      5\u001b[0m     territories \u001b[39m=\u001b[39;49m [\u001b[39m\"\u001b[39;49m\u001b[39mWGS84G_FRA\u001b[39;49m\u001b[39m\"\u001b[39;49m],\n\u001b[1;32m      6\u001b[0m     years \u001b[39m=\u001b[39;49m [\u001b[39m2017\u001b[39;49m]\n\u001b[1;32m      7\u001b[0m )\n",
      "File \u001b[0;32m/opt/mamba/lib/python3.11/site-packages/cartiflette/download/download.py:813\u001b[0m, in \u001b[0;36mdownload_sources\u001b[0;34m(providers, dataset_family, sources, territories, years)\u001b[0m\n\u001b[1;32m    807\u001b[0m \u001b[39m# TODO : certains fichiers sont téléchargés plusieurs fois, par ex.\u001b[39;00m\n\u001b[1;32m    808\u001b[0m \u001b[39m# les EXPRESS-COG-TERRITOIRE d'avant 2020... -> à optimiser au cas\u001b[39;00m\n\u001b[1;32m    809\u001b[0m \u001b[39m# où ça se produirait avec des jeux de données plus récents ?\u001b[39;00m\n\u001b[1;32m    810\u001b[0m \n\u001b[1;32m    811\u001b[0m \u001b[39m# TODO : gérer les extensions dans le yaml ?\u001b[39;00m\n\u001b[1;32m    812\u001b[0m \u001b[39mtry\u001b[39;00m:\n\u001b[0;32m--> 813\u001b[0m     result \u001b[39m=\u001b[39m s\u001b[39m.\u001b[39;49mdownload_unzip(\n\u001b[1;32m    814\u001b[0m         datafile,\n\u001b[1;32m    815\u001b[0m         preserve\u001b[39m=\u001b[39;49m\u001b[39m\"\u001b[39;49m\u001b[39mshape\u001b[39;49m\u001b[39m\"\u001b[39;49m,\n\u001b[1;32m    816\u001b[0m         pattern\u001b[39m=\u001b[39;49mBASE_CACHE_PATTERN,\n\u001b[1;32m    817\u001b[0m         ext\u001b[39m=\u001b[39;49m\u001b[39m\"\u001b[39;49m\u001b[39m.shp\u001b[39;49m\u001b[39m\"\u001b[39;49m,\n\u001b[1;32m    818\u001b[0m     )\n\u001b[1;32m    819\u001b[0m \u001b[39mexcept\u001b[39;00m \u001b[39mValueError\u001b[39;00m:\n\u001b[1;32m    820\u001b[0m     logger\u001b[39m.\u001b[39mwarning(\u001b[39mf\u001b[39m\u001b[39m\"\u001b[39m\u001b[39m{\u001b[39;00mdatafile\u001b[39m}\u001b[39;00m\u001b[39m failed\u001b[39m\u001b[39m\"\u001b[39m)\n",
      "File \u001b[0;32m/opt/mamba/lib/python3.11/site-packages/cartiflette/download/download.py:689\u001b[0m, in \u001b[0;36mMasterScraper.download_unzip\u001b[0;34m(self, datafile, preserve, pattern, ext, **kwargs)\u001b[0m\n\u001b[1;32m    686\u001b[0m     \u001b[39mraise\u001b[39;00m \u001b[39mValueError\u001b[39;00m(msg)\n\u001b[1;32m    688\u001b[0m \u001b[39mhash\u001b[39m \u001b[39m=\u001b[39m datafile\u001b[39m.\u001b[39mmd5\n\u001b[0;32m--> 689\u001b[0m url \u001b[39m=\u001b[39m datafile\u001b[39m.\u001b[39;49mget_path_from_provider()\n\u001b[1;32m    691\u001b[0m \u001b[39mif\u001b[39;00m url\u001b[39m.\u001b[39mstartswith((\u001b[39m\"\u001b[39m\u001b[39mhttp\u001b[39m\u001b[39m\"\u001b[39m, \u001b[39m\"\u001b[39m\u001b[39mhttps\u001b[39m\u001b[39m\"\u001b[39m)):\n\u001b[1;32m    692\u001b[0m     func \u001b[39m=\u001b[39m \u001b[39mself\u001b[39m\u001b[39m.\u001b[39mdownload_to_tempfile_http\n",
      "File \u001b[0;32m/opt/mamba/lib/python3.11/site-packages/cartiflette/download/download.py:199\u001b[0m, in \u001b[0;36mDataset.get_path_from_provider\u001b[0;34m(self)\u001b[0m\n\u001b[1;32m    196\u001b[0m     url \u001b[39m=\u001b[39m sources[year][\u001b[39m\"\u001b[39m\u001b[39mfile\u001b[39m\u001b[39m\"\u001b[39m]\n\u001b[1;32m    198\u001b[0m \u001b[39mexcept\u001b[39;00m \u001b[39mKeyError\u001b[39;00m:\n\u001b[0;32m--> 199\u001b[0m     field \u001b[39m=\u001b[39m sources[\u001b[39m\"\u001b[39;49m\u001b[39mfield\u001b[39;49m\u001b[39m\"\u001b[39;49m][\u001b[39mself\u001b[39;49m\u001b[39m.\u001b[39;49mterritory]\n\u001b[1;32m    200\u001b[0m     structure \u001b[39m=\u001b[39m sources[year][\u001b[39m\"\u001b[39m\u001b[39mstructure\u001b[39m\u001b[39m\"\u001b[39m]\n\u001b[1;32m    202\u001b[0m     kwargs \u001b[39m=\u001b[39m sources[year]\u001b[39m.\u001b[39mcopy()\n",
      "\u001b[0;31mKeyError\u001b[0m: 'WGS84G_FRA'"
     ]
    }
   ],
   "source": [
    "config_bdtopo = download.download_sources(\n",
    "    providers = [\"IGN\"],\n",
    "    dataset_family = [\"BDTOPO\"],\n",
    "    sources = [\"BDTOPO_shapefiles\"],\n",
    "    territories = [\"WGS84G_FRA\"],\n",
    "    years = [2017]\n",
    ")"
   ]
  },
  {
   "cell_type": "code",
   "execution_count": null,
   "metadata": {},
   "outputs": [
    {
     "data": {
      "text/plain": [
       "{}"
      ]
     },
     "execution_count": 9,
     "metadata": {},
     "output_type": "execute_result"
    }
   ],
   "source": [
    "config_bdtopo"
   ]
  },
  {
   "cell_type": "code",
   "execution_count": null,
   "metadata": {},
   "outputs": [],
   "source": []
  }
 ],
 "metadata": {
  "kernelspec": {
   "display_name": "base",
   "language": "python",
   "name": "python3"
  },
  "language_info": {
   "codemirror_mode": {
    "name": "ipython",
    "version": 3
   },
   "file_extension": ".py",
   "mimetype": "text/x-python",
   "name": "python",
   "nbconvert_exporter": "python",
   "pygments_lexer": "ipython3",
   "version": "3.11.4"
  },
  "orig_nbformat": 4
 },
 "nbformat": 4,
 "nbformat_minor": 2
}
