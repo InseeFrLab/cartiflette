{
 "cells": [
  {
   "cell_type": "markdown",
   "id": "abf9890d-ad51-4fca-a922-a49ec2d10e6e",
   "metadata": {},
   "source": [
    "Attention, toujours ce sujet de verify=False\n",
    "*verify = F"
   ]
  },
  {
   "cell_type": "code",
   "execution_count": 1,
   "id": "44d2f8ac-4ab8-4823-aa24-baf9da73f8ef",
   "metadata": {},
   "outputs": [
    {
     "name": "stderr",
     "output_type": "stream",
     "text": [
      "/opt/mamba/lib/python3.10/site-packages/cartiflette/download/dev.py:158: SyntaxWarning: \"is\" with a literal. Did you mean \"==\"?\n",
      "  if url.startswith((\"http\", \"https\")) and provider == \"IGN\" is False :\n",
      "/opt/mamba/lib/python3.10/site-packages/cartiflette/download/dev.py:158: SyntaxWarning: \"is\" with a literal. Did you mean \"==\"?\n",
      "  if url.startswith((\"http\", \"https\")) and provider == \"IGN\" is False :\n",
      "/opt/mamba/lib/python3.10/site-packages/cartiflette/download/dev.py:158: SyntaxWarning: \"is\" with a literal. Did you mean \"==\"?\n",
      "  if url.startswith((\"http\", \"https\")) and provider == \"IGN\" is False :\n",
      "/opt/mamba/lib/python3.10/site-packages/cartiflette/download/dev.py:158: SyntaxWarning: \"is\" with a literal. Did you mean \"==\"?\n",
      "  if url.startswith((\"http\", \"https\")) and provider == \"IGN\" is False :\n",
      "/opt/mamba/lib/python3.10/site-packages/cartiflette/download/dev.py:158: SyntaxWarning: \"is\" with a literal. Did you mean \"==\"?\n",
      "  if url.startswith((\"http\", \"https\")) and provider == \"IGN\" is False :\n"
     ]
    },
    {
     "ename": "KeyError",
     "evalue": "'BV'",
     "output_type": "error",
     "traceback": [
      "\u001b[0;31m---------------------------------------------------------------------------\u001b[0m",
      "\u001b[0;31mKeyError\u001b[0m                                  Traceback (most recent call last)",
      "Cell \u001b[0;32mIn [1], line 2\u001b[0m\n\u001b[1;32m      1\u001b[0m \u001b[38;5;28;01mfrom\u001b[39;00m \u001b[38;5;21;01mcartiflette\u001b[39;00m\u001b[38;5;21;01m.\u001b[39;00m\u001b[38;5;21;01mdownload\u001b[39;00m \u001b[38;5;28;01mimport\u001b[39;00m get_BV\n\u001b[0;32m----> 2\u001b[0m BV \u001b[38;5;241m=\u001b[39m \u001b[43mget_BV\u001b[49m\u001b[43m(\u001b[49m\u001b[43m)\u001b[49m\n",
      "File \u001b[0;32m/opt/mamba/lib/python3.10/site-packages/cartiflette/download/dev.py:438\u001b[0m, in \u001b[0;36mget_BV\u001b[0;34m(year)\u001b[0m\n\u001b[1;32m    426\u001b[0m \u001b[38;5;124;03m\"\"\"\u001b[39;00m\n\u001b[1;32m    427\u001b[0m \u001b[38;5;124;03mImport and Unzip Bassins de vie (Insee, format 2012)\u001b[39;00m\n\u001b[1;32m    428\u001b[0m \u001b[38;5;124;03m\u001b[39;00m\n\u001b[0;32m   (...)\u001b[0m\n\u001b[1;32m    433\u001b[0m \u001b[38;5;124;03m    A DataFrame\u001b[39;00m\n\u001b[1;32m    434\u001b[0m \u001b[38;5;124;03m\"\"\"\u001b[39;00m\n\u001b[1;32m    436\u001b[0m dict_open_data \u001b[38;5;241m=\u001b[39m import_yaml_config()\n\u001b[0;32m--> 438\u001b[0m url \u001b[38;5;241m=\u001b[39m \u001b[43mdict_open_data\u001b[49m\u001b[43m[\u001b[49m\u001b[38;5;124;43m'\u001b[39;49m\u001b[38;5;124;43mInsee\u001b[39;49m\u001b[38;5;124;43m'\u001b[39;49m\u001b[43m]\u001b[49m\u001b[43m\\\u001b[49m\n\u001b[1;32m    439\u001b[0m \u001b[43m    \u001b[49m\u001b[43m[\u001b[49m\u001b[38;5;124;43m'\u001b[39;49m\u001b[38;5;124;43mBV\u001b[39;49m\u001b[38;5;124;43m'\u001b[39;49m\u001b[43m]\u001b[49m[year][\u001b[38;5;124m\"\u001b[39m\u001b[38;5;124mfile\u001b[39m\u001b[38;5;124m\"\u001b[39m]\n\u001b[1;32m    441\u001b[0m \u001b[38;5;66;03m#from dev import safe_download_write\u001b[39;00m\n\u001b[1;32m    442\u001b[0m out_name \u001b[38;5;241m=\u001b[39m safe_download_write(\n\u001b[1;32m    443\u001b[0m     url,\n\u001b[1;32m    444\u001b[0m     location\u001b[38;5;241m=\u001b[39m\u001b[38;5;28;01mNone\u001b[39;00m,\n\u001b[1;32m    445\u001b[0m     param_ftp\u001b[38;5;241m=\u001b[39m\u001b[38;5;28;01mNone\u001b[39;00m,\n\u001b[1;32m    446\u001b[0m     ext \u001b[38;5;241m=\u001b[39m \u001b[38;5;124m\"\u001b[39m\u001b[38;5;124m.zip\u001b[39m\u001b[38;5;124m\"\u001b[39m, verify \u001b[38;5;241m=\u001b[39m \u001b[38;5;28;01mFalse\u001b[39;00m, force \u001b[38;5;241m=\u001b[39m \u001b[38;5;28;01mTrue\u001b[39;00m)\n",
      "\u001b[0;31mKeyError\u001b[0m: 'BV'"
     ]
    }
   ],
   "source": [
    "from cartiflette.download import get_BV\n",
    "BV = get_BV()"
   ]
  },
  {
   "cell_type": "code",
   "execution_count": null,
   "id": "889a9797-9715-48f9-9fc0-66990c1ad2cc",
   "metadata": {},
   "outputs": [],
   "source": [
    "BV"
   ]
  },
  {
   "cell_type": "code",
   "execution_count": null,
   "id": "c9555737-84e5-4099-9cc2-b0b28de8aa6b",
   "metadata": {},
   "outputs": [],
   "source": [
    "import os\n",
    "import ftplib\n",
    "import glob\n",
    "import re\n",
    "import typing\n",
    "import tempfile\n",
    "import yaml\n",
    "import py7zr\n",
    "import geopandas as gpd\n",
    "import requests #added\n",
    "from tqdm import tqdm\n",
    "import zipfile\n",
    "import pandas as pd\n",
    "import dev"
   ]
  },
  {
   "cell_type": "code",
   "execution_count": null,
   "id": "2a512df2-eeb4-4aa7-ba24-90a10863fe48",
   "metadata": {},
   "outputs": [],
   "source": [
    "def get_BV(\n",
    "    year: int):\n",
    "    \"\"\"\n",
    "    Import and Unzip Bassins de vie (Insee, format 2012)\n",
    "    \n",
    "    Args:\n",
    "        year\n",
    "    \n",
    "    Returns:\n",
    "        A DataFrame\n",
    "    \"\"\"\n",
    "    \n",
    "    dict_open_data = dev.import_yaml_config()\n",
    "    \n",
    "    url = dict_open_data['Insee']\\\n",
    "        ['BV'][year][\"file\"]\n",
    "    \n",
    "    #from dev import safe_download_write\n",
    "    out_name = dev.safe_download_write(\n",
    "        url,\n",
    "        location = None,\n",
    "        param_ftp =None,\n",
    "        ext = \".zip\", verify = False, force = True)\n",
    "    \n",
    "    tmp = tempfile.TemporaryDirectory()\n",
    "    location = tmp.name\n",
    "    # unzip in location directory\n",
    "\n",
    "    archive = zipfile.ZipFile(out_name, 'r')\n",
    "    archive.extractall(path=location)\n",
    "    archive.close()\n",
    "    \n",
    "    df=pd.read_excel(location+\"/\"+dict_open_data['Insee']['BV'][year][\"excel_name\"],\n",
    "                     sheet_name=\"Composition_communale\",skiprows=5)\n",
    "    df=df.loc[df['BV2012'] != \"ZZZZZ\"][['CODGEO','BV2012']]\n",
    "    #ZZZZZ à Mayotte\n",
    "    \n",
    "    return df\n"
   ]
  },
  {
   "cell_type": "code",
   "execution_count": null,
   "id": "cb4313b5-5a03-4f2b-b8f4-19391c9045d0",
   "metadata": {},
   "outputs": [],
   "source": [
    "df_2022=get_BV(2022)"
   ]
  },
  {
   "cell_type": "code",
   "execution_count": null,
   "id": "e373011b-314a-4511-a4b9-3ce3b71e2f80",
   "metadata": {},
   "outputs": [],
   "source": [
    "df_2022"
   ]
  }
 ],
 "metadata": {
  "kernelspec": {
   "display_name": "Python 3 (ipykernel)",
   "language": "python",
   "name": "python3"
  },
  "language_info": {
   "codemirror_mode": {
    "name": "ipython",
    "version": 3
   },
   "file_extension": ".py",
   "mimetype": "text/x-python",
   "name": "python",
   "nbconvert_exporter": "python",
   "pygments_lexer": "ipython3",
   "version": "3.10.4"
  }
 },
 "nbformat": 4,
 "nbformat_minor": 5
}
