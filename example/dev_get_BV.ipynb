{
 "cells": [
  {
   "cell_type": "markdown",
   "id": "abf9890d-ad51-4fca-a922-a49ec2d10e6e",
   "metadata": {},
   "source": [
    "Attention, toujours ce sujet de verify=False\n",
    "*verify = F"
   ]
  },
  {
   "cell_type": "code",
   "execution_count": 1,
   "id": "44d2f8ac-4ab8-4823-aa24-baf9da73f8ef",
   "metadata": {},
   "outputs": [
    {
     "name": "stderr",
     "output_type": "stream",
     "text": [
      "/opt/mamba/lib/python3.10/site-packages/urllib3/connectionpool.py:1045: InsecureRequestWarning: Unverified HTTPS request is being made to host 'www.insee.fr'. Adding certificate verification is strongly advised. See: https://urllib3.readthedocs.io/en/1.26.x/advanced-usage.html#ssl-warnings\n",
      "  warnings.warn(\n",
      "Downloading: : 1.23MiB [00:00, 8.75MiB/s]\n"
     ]
    }
   ],
   "source": [
    "from cartiflette.download import get_BV\n",
    "BV = get_BV()"
   ]
  },
  {
   "cell_type": "code",
   "execution_count": 2,
   "id": "889a9797-9715-48f9-9fc0-66990c1ad2cc",
   "metadata": {},
   "outputs": [
    {
     "data": {
      "text/html": [
       "<div>\n",
       "<style scoped>\n",
       "    .dataframe tbody tr th:only-of-type {\n",
       "        vertical-align: middle;\n",
       "    }\n",
       "\n",
       "    .dataframe tbody tr th {\n",
       "        vertical-align: top;\n",
       "    }\n",
       "\n",
       "    .dataframe thead th {\n",
       "        text-align: right;\n",
       "    }\n",
       "</style>\n",
       "<table border=\"1\" class=\"dataframe\">\n",
       "  <thead>\n",
       "    <tr style=\"text-align: right;\">\n",
       "      <th></th>\n",
       "      <th>CODGEO</th>\n",
       "      <th>BV2012</th>\n",
       "    </tr>\n",
       "  </thead>\n",
       "  <tbody>\n",
       "    <tr>\n",
       "      <th>0</th>\n",
       "      <td>01001</td>\n",
       "      <td>01093</td>\n",
       "    </tr>\n",
       "    <tr>\n",
       "      <th>1</th>\n",
       "      <td>01002</td>\n",
       "      <td>01004</td>\n",
       "    </tr>\n",
       "    <tr>\n",
       "      <th>2</th>\n",
       "      <td>01004</td>\n",
       "      <td>01004</td>\n",
       "    </tr>\n",
       "    <tr>\n",
       "      <th>3</th>\n",
       "      <td>01005</td>\n",
       "      <td>69123</td>\n",
       "    </tr>\n",
       "    <tr>\n",
       "      <th>4</th>\n",
       "      <td>01006</td>\n",
       "      <td>01034</td>\n",
       "    </tr>\n",
       "    <tr>\n",
       "      <th>...</th>\n",
       "      <td>...</td>\n",
       "      <td>...</td>\n",
       "    </tr>\n",
       "    <tr>\n",
       "      <th>34933</th>\n",
       "      <td>97420</td>\n",
       "      <td>97411</td>\n",
       "    </tr>\n",
       "    <tr>\n",
       "      <th>34934</th>\n",
       "      <td>97421</td>\n",
       "      <td>97409</td>\n",
       "    </tr>\n",
       "    <tr>\n",
       "      <th>34935</th>\n",
       "      <td>97422</td>\n",
       "      <td>97416</td>\n",
       "    </tr>\n",
       "    <tr>\n",
       "      <th>34936</th>\n",
       "      <td>97423</td>\n",
       "      <td>97415</td>\n",
       "    </tr>\n",
       "    <tr>\n",
       "      <th>34937</th>\n",
       "      <td>97424</td>\n",
       "      <td>97414</td>\n",
       "    </tr>\n",
       "  </tbody>\n",
       "</table>\n",
       "<p>34938 rows × 2 columns</p>\n",
       "</div>"
      ],
      "text/plain": [
       "      CODGEO BV2012\n",
       "0      01001  01093\n",
       "1      01002  01004\n",
       "2      01004  01004\n",
       "3      01005  69123\n",
       "4      01006  01034\n",
       "...      ...    ...\n",
       "34933  97420  97411\n",
       "34934  97421  97409\n",
       "34935  97422  97416\n",
       "34936  97423  97415\n",
       "34937  97424  97414\n",
       "\n",
       "[34938 rows x 2 columns]"
      ]
     },
     "execution_count": 2,
     "metadata": {},
     "output_type": "execute_result"
    }
   ],
   "source": [
    "BV"
   ]
  },
  {
   "cell_type": "code",
   "execution_count": null,
   "id": "c9555737-84e5-4099-9cc2-b0b28de8aa6b",
   "metadata": {},
   "outputs": [],
   "source": [
    "import os\n",
    "import ftplib\n",
    "import glob\n",
    "import re\n",
    "import typing\n",
    "import tempfile\n",
    "import yaml\n",
    "import py7zr\n",
    "import geopandas as gpd\n",
    "import requests #added\n",
    "from tqdm import tqdm\n",
    "import zipfile\n",
    "import pandas as pd\n",
    "import dev"
   ]
  },
  {
   "cell_type": "code",
   "execution_count": null,
   "id": "2a512df2-eeb4-4aa7-ba24-90a10863fe48",
   "metadata": {},
   "outputs": [],
   "source": [
    "def get_BV(\n",
    "    year: int):\n",
    "    \"\"\"\n",
    "    Import and Unzip Bassins de vie (Insee, format 2012)\n",
    "    \n",
    "    Args:\n",
    "        year\n",
    "    \n",
    "    Returns:\n",
    "        A DataFrame\n",
    "    \"\"\"\n",
    "    \n",
    "    dict_open_data = dev.import_yaml_config()\n",
    "    \n",
    "    url = dict_open_data['Insee']\\\n",
    "        ['BV'][year][\"file\"]\n",
    "    \n",
    "    #from dev import safe_download_write\n",
    "    out_name = dev.safe_download_write(\n",
    "        url,\n",
    "        location = None,\n",
    "        param_ftp =None,\n",
    "        ext = \".zip\", verify = False, force = True)\n",
    "    \n",
    "    tmp = tempfile.TemporaryDirectory()\n",
    "    location = tmp.name\n",
    "    # unzip in location directory\n",
    "\n",
    "    archive = zipfile.ZipFile(out_name, 'r')\n",
    "    archive.extractall(path=location)\n",
    "    archive.close()\n",
    "    \n",
    "    df=pd.read_excel(location+\"/\"+dict_open_data['Insee']['BV'][year][\"excel_name\"],\n",
    "                     sheet_name=\"Composition_communale\",skiprows=5)\n",
    "    df=df.loc[df['BV2012'] != \"ZZZZZ\"][['CODGEO','BV2012']]\n",
    "    #ZZZZZ à Mayotte\n",
    "    \n",
    "    return df\n"
   ]
  },
  {
   "cell_type": "code",
   "execution_count": null,
   "id": "cb4313b5-5a03-4f2b-b8f4-19391c9045d0",
   "metadata": {},
   "outputs": [],
   "source": [
    "df_2022=get_BV(2022)"
   ]
  },
  {
   "cell_type": "code",
   "execution_count": null,
   "id": "e373011b-314a-4511-a4b9-3ce3b71e2f80",
   "metadata": {},
   "outputs": [],
   "source": [
    "df_2022"
   ]
  }
 ],
 "metadata": {
  "kernelspec": {
   "display_name": "Python 3 (ipykernel)",
   "language": "python",
   "name": "python3"
  },
  "language_info": {
   "codemirror_mode": {
    "name": "ipython",
    "version": 3
   },
   "file_extension": ".py",
   "mimetype": "text/x-python",
   "name": "python",
   "nbconvert_exporter": "python",
   "pygments_lexer": "ipython3",
   "version": "3.10.4"
  }
 },
 "nbformat": 4,
 "nbformat_minor": 5
}
